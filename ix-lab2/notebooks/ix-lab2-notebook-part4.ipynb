{
 "cells": [
  {
   "cell_type": "markdown",
   "metadata": {},
   "source": [
    "# Networks: structure, evolution & processes\n",
    "**Internet Analytics - Lab 2**\n",
    "\n",
    "---\n",
    "\n",
    "**Group:** *P*\n",
    "\n",
    "**Names:**\n",
    "\n",
    "* *Matthias Leroy*\n",
    "* *Pierre Fouche*\n",
    "* *Alexandre Poussard*\n",
    "\n",
    "---\n",
    "\n",
    "#### Instructions\n",
    "\n",
    "*This is a template for part 4 of the lab. Clearly write your answers, comments and interpretations in Markodown cells. Don't forget that you can add $\\LaTeX$ equations in these cells. Feel free to add or remove any cell.*\n",
    "\n",
    "*Please properly comment your code. Code readability will be considered for grading. To avoid long cells of codes in the notebook, you can also embed long python functions and classes in a separate module. Don’t forget to hand in your module if that is the case. In multiple exercises, you are required to come up with your own method to solve various problems. Be creative and clearly motivate and explain your methods. Creativity and clarity will be considered for grading.*"
   ]
  },
  {
   "cell_type": "markdown",
   "metadata": {},
   "source": [
    "---\n",
    "\n",
    "## 2.4 PageRank\n",
    "\n",
    "### 2.4.1 Random Surfer Model\n",
    "\n",
    "#### Exercise 2.12"
   ]
  },
  {
   "cell_type": "code",
   "execution_count": null,
   "metadata": {
    "collapsed": true
   },
   "outputs": [],
   "source": [
    "import matplotlib.pyplot as plt\n",
    "import numpy as np\n",
    "import networkx as nx\n",
    "import collections\n",
    "\n",
    "#Count the number of visit in a node\n",
    "def ctr(node,graph):\n",
    "    if graph.node[node]:\n",
    "        graph.node[node] += 1\n",
    "    else:\n",
    "        graph.node[node] = 1\n",
    "\n",
    "#Algorithm of the random surfer        \n",
    "def randomSurfer(graph):\n",
    "    #Choose random source\n",
    "    node = np.random.randint(0,graph.number_of_nodes())\n",
    "    node =str(node)\n",
    "    ctr(node,graph)\n",
    "    i = 0\n",
    "    while graph.neighbors(node) and i<100:\n",
    "        #Choose a rande neighbor\n",
    "        tab = graph.neighbors(node)\n",
    "        node = np.random.choice(tab)\n",
    "        ctr(node,graph)\n",
    "        i = i + 1\n",
    "    print(graph.nodes(True))"
   ]
  },
  {
   "cell_type": "code",
   "execution_count": null,
   "metadata": {
    "collapsed": false
   },
   "outputs": [],
   "source": [
    "graph1 = nx.read_adjlist('../data/absorbing.graph', create_using = nx.DiGraph())\n",
    "graph2 = nx.read_adjlist('../data/components.graph', create_using = nx.DiGraph())\n",
    "\n",
    "randomSurfer(graph1)\n",
    "randomSurfer(graph2)\n"
   ]
  },
  {
   "cell_type": "markdown",
   "metadata": {},
   "source": [
    "We always observe the same pattern. It is because a graph can contain nodes with outdegree equal to zero or graph can have multiple connected components. And so the algorithm is stuck at a node or in a component."
   ]
  },
  {
   "cell_type": "markdown",
   "metadata": {},
   "source": [
    "#### Exercise 2.13"
   ]
  },
  {
   "cell_type": "code",
   "execution_count": null,
   "metadata": {
    "collapsed": true
   },
   "outputs": [],
   "source": [
    "#Choose random node\n",
    "def randomNode(graph):\n",
    "    r = np.random.randint(0,graph.number_of_nodes())\n",
    "    ctr(str(r),graph)\n",
    "    return str(r)\n",
    "#Algorithm of the random surfer modified\n",
    "def randomSurferBis(graph):\n",
    "    #Random source\n",
    "    node = randomNode(graph)\n",
    "    N = 100\n",
    "    for i in range(N):\n",
    "        #Choose node at random with probability 0.15\n",
    "        r = np.random.random()\n",
    "        if(r <= 0.15):\n",
    "            node = randomNode(graph)\n",
    "        else:\n",
    "            #Check if node has neighbors, if not choose random node\n",
    "            if not graph.neighbors(node):\n",
    "                node = randomNode(graph)\n",
    "            else:\n",
    "                tab = graph.neighbors(node)\n",
    "                r = np.random.choice(tab)\n",
    "                ctr(r,graph)\n",
    "    print(graph.nodes(True))\n",
    "    "
   ]
  },
  {
   "cell_type": "code",
   "execution_count": null,
   "metadata": {
    "collapsed": false
   },
   "outputs": [],
   "source": [
    "graph1 = nx.read_adjlist('../data/absorbing.graph', create_using = nx.DiGraph())\n",
    "graph2 = nx.read_adjlist('../data/components.graph', create_using = nx.DiGraph())\n",
    "\n",
    "randomSurferBis(graph1)\n",
    "randomSurferBis(graph2)\n"
   ]
  },
  {
   "cell_type": "markdown",
   "metadata": {},
   "source": [
    "---\n",
    "\n",
    "### 2.4.2 Power Iteration Method\n",
    "\n",
    "#### Exercise 2.14: Power Iteration method"
   ]
  },
  {
   "cell_type": "code",
   "execution_count": null,
   "metadata": {
    "collapsed": true
   },
   "outputs": [],
   "source": [
    "#Power iteration method\n",
    "def powerIteration(G,pi):\n",
    "    norm = 1\n",
    "    #while the norm of the difference between new pi and old pi is too big we continue\n",
    "    while norm > pow(10,-6):\n",
    "        temp = pi\n",
    "        pi = np.matmul(pi,G)\n",
    "        norm = np.linalg.norm(pi-temp)\n",
    "    return pi\n",
    "\n",
    "#Print the top ten page of the page rank\n",
    "def printTopTen(score,nbrNodes):\n",
    "    dic = {}\n",
    "    #Create dictionary with the top 10 nodes as keys\n",
    "    for i in range(nbrNodes):\n",
    "        dic[i] = score[0][i]\n",
    "    sorted_node = sorted(dic.items(), key=lambda x: -x[1])\n",
    "    topTen = sorted_node[:10]\n",
    "    topTen = dict(topTen)\n",
    "    result = dict.fromkeys(topTen.keys())\n",
    "    \n",
    "    #Search in wikipedia_titles the titles which correspond to the nodes\n",
    "    with open(\"../data/wikipedia_titles.tsv\") as title:\n",
    "        for line in title:\n",
    "            columns = line.split(\"\\t\")\n",
    "            if columns[0] != \"#page_id\" and int(columns[0]) in list(topTen.keys()):\n",
    "                result[int(columns[0])] = columns[1][:-1]\n",
    "    print(result.values())\n",
    "\n",
    "#Compute the page rank of each nodes    \n",
    "def pageRank(graph):\n",
    "    nbrNodes = graph.number_of_nodes()\n",
    "    #Create matrix H\n",
    "    H = np.zeros((nbrNodes,nbrNodes))\n",
    "    for i in range(nbrNodes):\n",
    "        for j in range(nbrNodes):\n",
    "            if str(j) in graph.neighbors(str(i)):\n",
    "                H[i][j] = 1/graph.out_degree(str(i))\n",
    "    #Create vector w\n",
    "    w = np.zeros((nbrNodes,1),int)\n",
    "    ones = np.ones((1,nbrNodes),int)\n",
    "    for i in range(nbrNodes):\n",
    "        if not graph.neighbors(str(i)):\n",
    "            w[i] = 1\n",
    "    w = np.matmul(w,ones) * 1/nbrNodes\n",
    "    H2 = H + w\n",
    "    theta = 0.85\n",
    "    temp = np.matmul(ones.transpose(),ones) * (1-theta) / nbrNodes\n",
    "    G = theta * H2 + temp\n",
    "    pi = np.ones((1,nbrNodes),int) / nbrNodes\n",
    "    return powerIteration(G,pi)\n",
    "    \n",
    "\n",
    "    \n",
    "\n",
    "\n"
   ]
  },
  {
   "cell_type": "code",
   "execution_count": null,
   "metadata": {
    "collapsed": false
   },
   "outputs": [],
   "source": [
    "graph = nx.read_adjlist('../data/wikipedia.graph', create_using = nx.DiGraph())\n",
    "printTopTen(pageRank(graph),graph.number_of_nodes())\n"
   ]
  },
  {
   "cell_type": "markdown",
   "metadata": {
    "collapsed": false
   },
   "source": [
    "The top ten pages are United Kingdom, Europe, England, France, World War II, Latin, Germany, English language, India and United States."
   ]
  },
  {
   "cell_type": "markdown",
   "metadata": {},
   "source": [
    "---\n",
    "\n",
    "### 2.4.3 Gaming the system *(Bonus)*\n",
    "\n",
    "#### Exercise 2.15 *(Bonus)*"
   ]
  },
  {
   "cell_type": "code",
   "execution_count": null,
   "metadata": {
    "collapsed": false
   },
   "outputs": [],
   "source": [
    "\n",
    "\n"
   ]
  },
  {
   "cell_type": "code",
   "execution_count": null,
   "metadata": {
    "collapsed": false
   },
   "outputs": [],
   "source": []
  }
 ],
 "metadata": {
  "anaconda-cloud": {},
  "kernelspec": {
   "display_name": "Python 3",
   "language": "python",
   "name": "python3"
  },
  "language_info": {
   "codemirror_mode": {
    "name": "ipython",
    "version": 3
   },
   "file_extension": ".py",
   "mimetype": "text/x-python",
   "name": "python",
   "nbconvert_exporter": "python",
   "pygments_lexer": "ipython3",
   "version": "3.5.2"
  }
 },
 "nbformat": 4,
 "nbformat_minor": 2
}
