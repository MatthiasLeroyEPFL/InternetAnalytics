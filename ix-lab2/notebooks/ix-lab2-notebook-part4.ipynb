{
 "cells": [
  {
   "cell_type": "markdown",
   "metadata": {},
   "source": [
    "# Networks: structure, evolution & processes\n",
    "**Internet Analytics - Lab 2**\n",
    "\n",
    "---\n",
    "\n",
    "**Group:** *Your group letter.*\n",
    "\n",
    "**Names:**\n",
    "\n",
    "* *Name 1*\n",
    "* *Name 2*\n",
    "* *Name 3*\n",
    "\n",
    "---\n",
    "\n",
    "#### Instructions\n",
    "\n",
    "*This is a template for part 4 of the lab. Clearly write your answers, comments and interpretations in Markodown cells. Don't forget that you can add $\\LaTeX$ equations in these cells. Feel free to add or remove any cell.*\n",
    "\n",
    "*Please properly comment your code. Code readability will be considered for grading. To avoid long cells of codes in the notebook, you can also embed long python functions and classes in a separate module. Don’t forget to hand in your module if that is the case. In multiple exercises, you are required to come up with your own method to solve various problems. Be creative and clearly motivate and explain your methods. Creativity and clarity will be considered for grading.*"
   ]
  },
  {
   "cell_type": "markdown",
   "metadata": {},
   "source": [
    "---\n",
    "\n",
    "## 2.4 PageRank\n",
    "\n",
    "### 2.4.1 Random Surfer Model\n",
    "\n",
    "#### Exercise 2.12"
   ]
  },
  {
   "cell_type": "code",
   "execution_count": null,
   "metadata": {
    "collapsed": false
   },
   "outputs": [],
   "source": [
    "%matplotlib inline\n",
    "import matplotlib.pyplot as plt\n",
    "import numpy as np\n",
    "import networkx as nx\n",
    "import collections\n",
    "\n",
    "def ctr(nodes):\n",
    "    if graph1.node[nodes]:\n",
    "        graph1.node[nodes] += 1\n",
    "    else:\n",
    "        graph1.node[nodes] = 1\n",
    "\n",
    "\n",
    "graph1 = nx.read_adjlist('../data/absorbing.graph', create_using = nx.DiGraph())\n",
    "r = np.random.randint(0,graph1.number_of_nodes())\n",
    "r =str(r)\n",
    "ctr(r)\n",
    "i = 0\n",
    "while graph1.neighbors(r) and i<100:\n",
    "    tab = graph1.neighbors(r)\n",
    "    r = np.random.choice(tab)\n",
    "    ctr(r)\n",
    "    i = i + 1\n",
    "print(graph1.nodes(True))\n",
    "\n"
   ]
  },
  {
   "cell_type": "markdown",
   "metadata": {},
   "source": [
    "#### Exercise 2.13"
   ]
  },
  {
   "cell_type": "code",
   "execution_count": null,
   "metadata": {
    "collapsed": false
   },
   "outputs": [],
   "source": [
    "def randomNode(graph):\n",
    "    r = np.random.randint(0,graph.number_of_nodes())\n",
    "    ctr(str(r))\n",
    "    return str(r)\n",
    "\n",
    "graph1 = nx.read_adjlist('../data/absorbing.graph', create_using = nx.DiGraph())\n",
    "node = randomNode(graph1)\n",
    "N = 100\n",
    "for i in range(N):\n",
    "    r = np.random.random()\n",
    "    if(r <= 0.15):\n",
    "        node = randomNode(graph1)\n",
    "    else:\n",
    "        if not graph1.neighbors(node):\n",
    "            node = randomNode(graph1)\n",
    "        else:\n",
    "            tab = graph1.neighbors(node)\n",
    "            r = np.random.choice(tab)\n",
    "            ctr(r)\n",
    "print(graph1.nodes(True))\n",
    "    "
   ]
  },
  {
   "cell_type": "markdown",
   "metadata": {},
   "source": [
    "---\n",
    "\n",
    "### 2.4.2 Power Iteration Method\n",
    "\n",
    "#### Exercise 2.14: Power Iteration method"
   ]
  },
  {
   "cell_type": "code",
   "execution_count": null,
   "metadata": {
    "collapsed": true
   },
   "outputs": [],
   "source": []
  },
  {
   "cell_type": "markdown",
   "metadata": {},
   "source": [
    "---\n",
    "\n",
    "### 2.4.3 Gaming the system *(Bonus)*\n",
    "\n",
    "#### Exercise 2.15 *(Bonus)*"
   ]
  },
  {
   "cell_type": "code",
   "execution_count": null,
   "metadata": {
    "collapsed": true
   },
   "outputs": [],
   "source": []
  }
 ],
 "metadata": {
  "anaconda-cloud": {},
  "kernelspec": {
   "display_name": "Python 3",
   "language": "python",
   "name": "python3"
  },
  "language_info": {
   "codemirror_mode": {
    "name": "ipython",
    "version": 3
   },
   "file_extension": ".py",
   "mimetype": "text/x-python",
   "name": "python",
   "nbconvert_exporter": "python",
   "pygments_lexer": "ipython3",
   "version": "3.5.2"
  }
 },
 "nbformat": 4,
 "nbformat_minor": 2
}
