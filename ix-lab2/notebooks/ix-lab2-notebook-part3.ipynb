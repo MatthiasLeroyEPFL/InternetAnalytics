{
 "cells": [
  {
   "cell_type": "markdown",
   "metadata": {},
   "source": [
    "# Networks: structure, evolution & processes\n",
    "**Internet Analytics - Lab 2**\n",
    "\n",
    "---\n",
    "\n",
    "**Group:** *P*\n",
    "\n",
    "**Names:**\n",
    "\n",
    "* *Matthias Leroy*\n",
    "* *Pierre Fouche*\n",
    "* *Alexandre Poussard*\n",
    "\n",
    "---\n",
    "\n",
    "#### Instructions\n",
    "\n",
    "*This is a template for part 3 of the lab. Clearly write your answers, comments and interpretations in Markodown cells. Don't forget that you can add $\\LaTeX$ equations in these cells. Feel free to add or remove any cell.*\n",
    "\n",
    "*Please properly comment your code. Code readability will be considered for grading. To avoid long cells of codes in the notebook, you can also embed long python functions and classes in a separate module. Don’t forget to hand in your module if that is the case. In multiple exercises, you are required to come up with your own method to solve various problems. Be creative and clearly motivate and explain your methods. Creativity and clarity will be considered for grading.*"
   ]
  },
  {
   "cell_type": "markdown",
   "metadata": {},
   "source": [
    "---\n",
    "\n",
    "## 2.3 Epdemics\n",
    "\n",
    "#### Exercise 2.9: Simulate an epidemic outbreak"
   ]
  },
  {
   "cell_type": "code",
   "execution_count": null,
   "metadata": {
    "collapsed": false
   },
   "outputs": [],
   "source": [
    "import epidemics_helper\n",
    "from networkx.readwrite import json_graph\n",
    "import json\n",
    "import networkx as nx\n",
    "import matplotlib.pyplot as plt\n",
    "import numpy as np\n",
    "from random import sample\n",
    "\n",
    "\n",
    "filename = '../data/nyc_augmented_network.json'\n",
    "json_load = json.load(open(filename))\n",
    "G = json_graph.node_link_graph(json_load)\n",
    "\n",
    "sir = epidemics_helper.SimulationSIR(G, beta=10.0, gamma=0.1)\n",
    "sir.launch_epidemic(source=23654, max_time=100.0)"
   ]
  },
  {
   "cell_type": "code",
   "execution_count": null,
   "metadata": {
    "collapsed": true
   },
   "outputs": [],
   "source": [
    "def plotStatus(graph,epidemic):\n",
    "    nbOfNodes = nx.number_of_nodes(graph)\n",
    "    susTime = []\n",
    "    infTime = []\n",
    "    recTime = []\n",
    "    timeInf60 = 0\n",
    "    timeRec60 = 0\n",
    "    for i in range(0,101):\n",
    "        countSus = 0\n",
    "        countInf = 0\n",
    "        countRec = 0\n",
    "        for j in range(nbOfNodes):\n",
    "            if epidemic.inf_time[j] <= i and epidemic.rec_time[j] >= i:\n",
    "                countInf += 1\n",
    "            elif epidemic.inf_time[j] > i:\n",
    "                countSus += 1\n",
    "            elif epidemic.rec_time[j] <= i:\n",
    "                countRec += 1\n",
    "        percInf = (countInf*100)/nbOfNodes\n",
    "        percSus = (countSus*100)/nbOfNodes\n",
    "        percRec = (countRec*100)/nbOfNodes\n",
    "        if percInf >= 60 and timeInf60 == 0:\n",
    "            timeInf60 = i\n",
    "        elif percRec >= 60 and timeRec60 == 0:\n",
    "            timeRec60 = i\n",
    "        \n",
    "        infTime.append(percInf)\n",
    "        susTime.append(percSus)\n",
    "        recTime.append(percRec)\n",
    "        \n",
    "    plt.plot(infTime)\n",
    "    plt.plot(susTime)\n",
    "    plt.plot(recTime)\n",
    "    plt.show()\n",
    "\n",
    "    print(\"at the day\", timeInf60, \", 60% of the population is infected\")\n",
    "    print(\"at the day\", timeRec60, \", 60% of the population is recovered\")\n"
   ]
  },
  {
   "cell_type": "code",
   "execution_count": null,
   "metadata": {
    "collapsed": false
   },
   "outputs": [],
   "source": [
    "plotStatus(G,sir)"
   ]
  },
  {
   "cell_type": "code",
   "execution_count": null,
   "metadata": {
    "collapsed": false
   },
   "outputs": [],
   "source": [
    "def colorNodes(time, nbOfNodes):\n",
    "    color = []\n",
    "    for i in range(nbOfNodes):\n",
    "        if sir.inf_time[i] <= time and sir.rec_time[i] > time:\n",
    "            color.append('r')\n",
    "        elif sir.rec_time[i] <= time:\n",
    "            color.append('b')\n",
    "        elif sir.inf_time[i] > time:\n",
    "            color.append('g')\n",
    "    return color\n",
    "\n",
    "coordinatesDic = {}\n",
    "colorAt1 = colorNodes(1, nx.number_of_nodes(G))\n",
    "colorAt3 = colorNodes(3, nx.number_of_nodes(G))\n",
    "colorAt30 = colorNodes(30, nx.number_of_nodes(G))\n",
    "\n",
    "for i in json_load[\"nodes\"]:\n",
    "    coordinatesDic[i[\"id\"]] = (i[\"coordinates\"][0],i[\"coordinates\"][1])\n",
    "\n",
    "#G.add_nodes_from(coordinatesDic.keys())\n",
    "nx.draw_networkx(G, coordinatesDic, with_labels=False, node_size=10, node_color=colorAt30)\n",
    "plt.show()\n",
    "plt.axis('off');\n",
    "nx.draw_networkx(G, coordinatesDic, with_labels=False, node_size=10, node_color=colorAt3)\n",
    "plt.show()\n",
    "plt.axis('off');\n",
    "nx.draw_networkx(G, coordinatesDic, with_labels=False, node_size=10, node_color=colorAt30)\n",
    "plt.show()\n",
    "plt.axis('off');"
   ]
  },
  {
   "cell_type": "markdown",
   "metadata": {},
   "source": [
    "---\n",
    "\n",
    "### 2.3.1 Stop the apocalypse!\n",
    "\n",
    "#### Exercise 2.10: Strategy 1"
   ]
  },
  {
   "cell_type": "code",
   "execution_count": null,
   "metadata": {
    "collapsed": false
   },
   "outputs": [],
   "source": [
    "%%capture\n",
    "def randomEpidemics(nbrEdges):\n",
    "    \n",
    "    graph2 = json_graph.node_link_graph(json_load)\n",
    "    edges = sample(graph2.edges(),nbrEdges)\n",
    "\n",
    "    graph2.remove_edges_from(edges)\n",
    "\n",
    "    startingNode = np.random.randint(0,nx.number_of_nodes(graph2))\n",
    "    sir = epidemics_helper.SimulationSIR(graph2, beta=10.0, gamma=0.1)\n",
    "    sir.launch_epidemic(source=startingNode, max_time=100.0);\n",
    "    nbrSuc = 0\n",
    "    nbrInf = 0\n",
    "    nbrRec = 0\n",
    "    for i in range(nx.number_of_nodes(graph2)):\n",
    "        if sir.inf_time[i] <= 30 and sir.rec_time[i] > 30:\n",
    "            nbrInf +=1\n",
    "        elif sir.inf_time[i] > 30:\n",
    "            nbrSuc +=1\n",
    "        elif sir.rec_time[i] <= 30:\n",
    "            nbrRec +=1\n",
    "   \n",
    "    return (nbrSuc,nbrInf,nbrRec)\n",
    "\n",
    "def computeAverage(nbrEdges):\n",
    "    averageSuc = 0\n",
    "    averageInf = 0\n",
    "    averageRec = 0\n",
    "    for i in range(5):\n",
    "        r1 = randomEpidemics(nbrEdges)\n",
    "        averageSuc += r1[0]\n",
    "        averageInf += r1[1]\n",
    "        averageRec += r1[2]\n",
    "    return (averageSuc/5,averageInf/5,averageRec/5)\n",
    "    "
   ]
  },
  {
   "cell_type": "code",
   "execution_count": null,
   "metadata": {
    "collapsed": false
   },
   "outputs": [],
   "source": [
    "average1 = computeAverage(1000)\n",
    "average2 = computeAverage(10000)\n",
    "print(\"With 1000 edges removed, at time 30, the average of persons suceptible is \",average1[0],\", of persons infected is \",average1[1],\", of persons dead is \",average1[2])\n",
    "print(\"With 10000 edges removed, at time 30, the average of persons suceptible is \",average2[0],\", of persons infected is \",average2[1],\", of persons dead is \",average2[2])     "
   ]
  },
  {
   "cell_type": "markdown",
   "metadata": {},
   "source": [
    "#### Exercise 2.11: Strategy 2"
   ]
  },
  {
   "cell_type": "code",
   "execution_count": null,
   "metadata": {
    "collapsed": true
   },
   "outputs": [],
   "source": []
  }
 ],
 "metadata": {
  "anaconda-cloud": {},
  "kernelspec": {
   "display_name": "Python 3",
   "language": "python",
   "name": "python3"
  },
  "language_info": {
   "codemirror_mode": {
    "name": "ipython",
    "version": 3
   },
   "file_extension": ".py",
   "mimetype": "text/x-python",
   "name": "python",
   "nbconvert_exporter": "python",
   "pygments_lexer": "ipython3",
   "version": "3.5.2"
  }
 },
 "nbformat": 4,
 "nbformat_minor": 2
}
