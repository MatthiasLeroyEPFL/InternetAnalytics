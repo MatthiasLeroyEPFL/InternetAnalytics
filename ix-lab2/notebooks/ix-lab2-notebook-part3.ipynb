{
 "cells": [
  {
   "cell_type": "markdown",
   "metadata": {},
   "source": [
    "# Networks: structure, evolution & processes\n",
    "**Internet Analytics - Lab 2**\n",
    "\n",
    "---\n",
    "\n",
    "**Group:** *P*\n",
    "\n",
    "**Names:**\n",
    "\n",
    "* *Matthias Leroy*\n",
    "* *Pierre Fouche*\n",
    "* *Alexandre Poussard*\n",
    "\n",
    "---\n",
    "\n",
    "#### Instructions\n",
    "\n",
    "*This is a template for part 3 of the lab. Clearly write your answers, comments and interpretations in Markodown cells. Don't forget that you can add $\\LaTeX$ equations in these cells. Feel free to add or remove any cell.*\n",
    "\n",
    "*Please properly comment your code. Code readability will be considered for grading. To avoid long cells of codes in the notebook, you can also embed long python functions and classes in a separate module. Don’t forget to hand in your module if that is the case. In multiple exercises, you are required to come up with your own method to solve various problems. Be creative and clearly motivate and explain your methods. Creativity and clarity will be considered for grading.*"
   ]
  },
  {
   "cell_type": "markdown",
   "metadata": {},
   "source": [
    "---\n",
    "\n",
    "## 2.3 Epdemics\n",
    "\n",
    "#### Exercise 2.9: Simulate an epidemic outbreak"
   ]
  },
  {
   "cell_type": "code",
   "execution_count": null,
   "metadata": {
    "collapsed": false
   },
   "outputs": [],
   "source": [
    "import epidemics_helper\n",
    "from networkx.readwrite import json_graph\n",
    "import json\n",
    "import networkx as nx\n",
    "import matplotlib.pyplot as plt\n",
    "import numpy as np\n",
    "from random import sample\n",
    "\n",
    "#Load the graph\n",
    "filename = '../data/nyc_augmented_network.json'\n",
    "json_load = json.load(open(filename))\n",
    "G = json_graph.node_link_graph(json_load)\n",
    "nbrNodes = nx.number_of_nodes(G)\n",
    "\n",
    "#Launch the epidemic\n",
    "sir = epidemics_helper.SimulationSIR(G, beta=10.0, gamma=0.1)\n",
    "sir.launch_epidemic(source=23654, max_time=100.0)"
   ]
  },
  {
   "cell_type": "code",
   "execution_count": null,
   "metadata": {
    "collapsed": true
   },
   "outputs": [],
   "source": [
    "#Function that plot the evolution of the epidemic over time\n",
    "def plotStatus(graph,epidemic):\n",
    "    nbOfNodes = nx.number_of_nodes(graph)\n",
    "    susTime = []\n",
    "    infTime = []\n",
    "    recTime = []\n",
    "    timeInf60 = 0\n",
    "    timeRec60 = 0\n",
    "    \n",
    "    #Every day of the epidemic\n",
    "    for i in range(0,101):\n",
    "        countSus = 0\n",
    "        countInf = 0\n",
    "        countRec = 0\n",
    "        #Every nodes of the graph\n",
    "        for j in range(nbOfNodes):\n",
    "            #look if the node is infected at a given day(we consider that a recovered node is no longer infected)\n",
    "            if epidemic.inf_time[j] <= i and epidemic.rec_time[j] >= i:\n",
    "                countInf += 1\n",
    "            #look if the node is susceptible at a given day\n",
    "            elif epidemic.inf_time[j] > i:\n",
    "                countSus += 1\n",
    "            #look if the node is recovered at a given day\n",
    "            elif epidemic.rec_time[j] <= i:\n",
    "                countRec += 1\n",
    "                \n",
    "        #Find the percentage of susceptible, infected and recovered people at a given time\n",
    "        percInf = (countInf*100)/nbOfNodes\n",
    "        percSus = (countSus*100)/nbOfNodes\n",
    "        percRec = (countRec*100)/nbOfNodes\n",
    "        infTime.append(percInf)\n",
    "        susTime.append(percSus)\n",
    "        recTime.append(percRec)\n",
    "        \n",
    "        #Find the time it takes before 60% of the population is infected and dead\n",
    "        if percInf >= 60 and timeInf60 == 0:\n",
    "            timeInf60 = i\n",
    "        #We consider that every recovered node are dead because we can not make the difference with a healed one\n",
    "        elif percRec >= 60 and timeRec60 == 0:\n",
    "            timeRec60 = i\n",
    "        \n",
    "    #We plot the different percentages\n",
    "    plt.plot(infTime)\n",
    "    plt.plot(susTime)\n",
    "    plt.plot(recTime)\n",
    "    plt.title(\"Percetage of susceptible, infected and recovered nodes over time\", fontsize=10)\n",
    "    plt.xlabel(\"Time (in day)\", fontsize=15)\n",
    "    plt.ylabel(\"Percentage of nodes\", fontsize=15)\n",
    "    plt.legend([\"Infected\", \"Susceptible\", \"Recovered\"], loc='lower right', fontsize=14)\n",
    "    plt.show()\n",
    "\n",
    "    print(\"at the day\", timeInf60, \", 60% of the population is infected\")\n",
    "    print(\"at the day\", timeRec60, \", 60% of the population is recovered\")\n"
   ]
  },
  {
   "cell_type": "code",
   "execution_count": null,
   "metadata": {
    "collapsed": false
   },
   "outputs": [],
   "source": [
    "plotStatus(G,sir)"
   ]
  },
  {
   "cell_type": "markdown",
   "metadata": {},
   "source": [
    "3) It takes 7 day before 60% of the population is infected and 15 days before 60% is recovered"
   ]
  },
  {
   "cell_type": "code",
   "execution_count": null,
   "metadata": {
    "collapsed": false
   },
   "outputs": [],
   "source": [
    "#Create a list of color to draw the graph in function of the time\n",
    "def colorNodes(time, nbOfNodes):\n",
    "    color = []\n",
    "    #Check the state of the node and choose the color\n",
    "    for i in range(nbOfNodes):\n",
    "        if sir.inf_time[i] <= time and sir.rec_time[i] > time:\n",
    "            color.append('r')\n",
    "        elif sir.rec_time[i] <= time:\n",
    "            color.append('b')\n",
    "        elif sir.inf_time[i] > time:\n",
    "            color.append('g')\n",
    "    return color\n",
    "\n",
    "coordinatesDic = {}\n",
    "colorAt1 = colorNodes(1, nx.number_of_nodes(G))\n",
    "colorAt3 = colorNodes(3, nx.number_of_nodes(G))\n",
    "colorAt30 = colorNodes(30, nx.number_of_nodes(G))\n",
    "\n",
    "#Create a dictionary of coordinates to draw the graph\n",
    "for i in json_load[\"nodes\"]:\n",
    "    coordinatesDic[i[\"id\"]] = (i[\"coordinates\"][0],i[\"coordinates\"][1])\n",
    "\n",
    "plt.axis('off');\n",
    "nx.draw_networkx(G, coordinatesDic, with_labels=False, node_size=10, node_color=colorAt1)\n",
    "plt.title(\"Graph of epidemic after 1 day\", fontsize=15)\n",
    "plt.show()\n",
    "plt.axis('off');\n",
    "nx.draw_networkx(G, coordinatesDic, with_labels=False, node_size=10, node_color=colorAt3)\n",
    "plt.title(\"Graph of epidemic after 3 day\", fontsize=15)\n",
    "plt.show()\n",
    "plt.axis('off');\n",
    "nx.draw_networkx(G, coordinatesDic, with_labels=False, node_size=10, node_color=colorAt30)\n",
    "plt.title(\"Graph of epidemic after 30 day\", fontsize=15)\n",
    "plt.show()\n",
    "print(\"Green nodes: Susceptible, Red nodes: Infected, Blue nodes: Recovered\")"
   ]
  },
  {
   "cell_type": "markdown",
   "metadata": {},
   "source": [
    "After one day, everybody in the zone around the source is infected but it is a small portion of the city.\n",
    "After three days, the epidemic start to spread in the city and people around the source start to recover.\n",
    "After thirty days, almost the entire city has recovered."
   ]
  },
  {
   "cell_type": "markdown",
   "metadata": {},
   "source": [
    "---\n",
    "\n",
    "### 2.3.1 Stop the apocalypse!\n",
    "\n",
    "#### Exercise 2.10: Strategy 1"
   ]
  },
  {
   "cell_type": "code",
   "execution_count": null,
   "metadata": {
    "collapsed": false
   },
   "outputs": [],
   "source": [
    "#Create and launch random epidemic\n",
    "def randomEpidemics(nbrEdges):\n",
    "    \n",
    "    graph2 = json_graph.node_link_graph(json_load)\n",
    "    \n",
    "    #Remove random edges\n",
    "    edges = sample(graph2.edges(),nbrEdges)\n",
    "    graph2.remove_edges_from(edges)\n",
    "\n",
    "    startingNode = np.random.randint(0,nx.number_of_nodes(graph2))\n",
    "    sir = epidemics_helper.SimulationSIR(graph2, beta=10.0, gamma=0.1)\n",
    "    sir.launch_epidemic(source=startingNode, max_time=100.0);\n",
    "    nbrSuc = 0\n",
    "    nbrInf = 0\n",
    "    nbrRec = 0\n",
    "    for i in range(nx.number_of_nodes(graph2)):\n",
    "        if sir.inf_time[i] <= 30 and sir.rec_time[i] > 30:\n",
    "            nbrInf +=1\n",
    "        elif sir.inf_time[i] > 30:\n",
    "            nbrSuc +=1\n",
    "        elif sir.rec_time[i] <= 30:\n",
    "            nbrRec +=1\n",
    "   \n",
    "    return (nbrSuc,nbrInf,nbrRec)\n",
    "\n",
    "#Compute the average number of suceptible, infected and recovered\n",
    "def computeAverage(nbrEdges):\n",
    "    averageSuc = 0\n",
    "    averageInf = 0\n",
    "    averageRec = 0\n",
    "    for i in range(5):\n",
    "        r1 = randomEpidemics(nbrEdges)\n",
    "        averageSuc += r1[0]\n",
    "        averageInf += r1[1]\n",
    "        averageRec += r1[2]\n",
    "    return (averageSuc/5,averageInf/5,averageRec/5)\n",
    "    "
   ]
  },
  {
   "cell_type": "code",
   "execution_count": null,
   "metadata": {
    "collapsed": false
   },
   "outputs": [],
   "source": [
    "average1 = computeAverage(1000)\n",
    "average2 = computeAverage(10000)\n",
    "print(\"With 1000 edges removed, at time 30, the average of persons suceptible is \",average1[0],\", of persons infected is \",average1[1],\", of persons dead is \",average1[2])\n",
    "print(\"With 10000 edges removed, at time 30, the average of persons suceptible is \",average2[0],\", of persons infected is \",average2[1],\", of persons dead is \",average2[2])     "
   ]
  },
  {
   "cell_type": "markdown",
   "metadata": {},
   "source": [
    "This strategy is not effective, we can see that after 30 days only 109.2 persons, in average, are still healthy, 2956.8 are infected and 23415 dead. So almost everyone is dead.\n",
    "<br/>If we increase the budget, the stategy is a little more effective. 12915 persons are healthy, 2153.2 are infected and there are still 11412.8 persons dead"
   ]
  },
  {
   "cell_type": "markdown",
   "metadata": {},
   "source": [
    "#### Exercise 2.11: Strategy 2"
   ]
  },
  {
   "cell_type": "markdown",
   "metadata": {},
   "source": [
    "Instead of removing edges at random, we decide te remove one edge of 2500 nodes of degree 2. \n",
    "In fact after observing the graphs, we wanted to create isolated components with a small number of node. Thus the epidemic will be stuck in a component and won't be able to reach an other one. Moreover we thought that by removing one edge of a node of degree 2 even if it does not create separate component it will be more difficult and take more time to infect the originally separated node."
   ]
  },
  {
   "cell_type": "code",
   "execution_count": null,
   "metadata": {
    "collapsed": false
   },
   "outputs": [],
   "source": [
    "%%capture\n",
    "def strategy():\n",
    "    graph3 = json_graph.node_link_graph(json_load)\n",
    "\n",
    "    degree = graph3.degree(graph3.nodes())\n",
    "    remove = []\n",
    "    \n",
    "    #Remove one edge of the nodes with degree 3\n",
    "    for i in range(graph3.number_of_nodes()):\n",
    "        if degree[i] == 2 and len(remove)<2500:\n",
    "            temp = graph3.neighbors(i)\n",
    "            remove.append((i,temp[0]))\n",
    "            \n",
    "    graph3.remove_edges_from(remove)\n",
    "    startingNode = np.random.randint(0,nx.number_of_nodes(graph3))\n",
    "    sir = epidemics_helper.SimulationSIR(graph3, beta=10.0, gamma=0.1)\n",
    "    sir.launch_epidemic(source=startingNode, max_time=100.0)\n",
    "    nbrInf = 0\n",
    "    nbrSuc = 0\n",
    "    nbrRec = 0\n",
    "    #Compute statistics\n",
    "    for i in range(nx.number_of_nodes(graph3)):\n",
    "        if sir.inf_time[i] <= 30 and sir.rec_time[i] > 30:\n",
    "            nbrInf +=1\n",
    "        elif sir.inf_time[i] > 30:\n",
    "            nbrSuc +=1\n",
    "        elif sir.rec_time[i] <= 30:\n",
    "            nbrRec +=1\n",
    "    return (nbrSuc, nbrInf, nbrRec)\n",
    "\n",
    "nbrSuc = 0\n",
    "nbrRec = 0\n",
    "nbrInf = 0\n",
    "#Execute 50 times\n",
    "for i in range(50):\n",
    "    result = strategy()\n",
    "    nbrInf += result[1]\n",
    "    nbrSuc += result[0]\n",
    "    nbrRec += result[2]\n",
    "\n",
    "\n",
    "    "
   ]
  },
  {
   "cell_type": "code",
   "execution_count": null,
   "metadata": {
    "collapsed": false
   },
   "outputs": [],
   "source": [
    "print(\"Suceptible: \",nbrSuc/(50*nbrNodes)*100,\" Infected: \",nbrInf/(50*nbrNodes)*100,\" Recover: \",nbrRec/(50*nbrNodes)*100)\n"
   ]
  },
  {
   "cell_type": "markdown",
   "metadata": {},
   "source": [
    "Our strategy is more effective. Indeed after 30 days 72% of the population is still healthy. It is 8 points more than your strategy."
   ]
  }
 ],
 "metadata": {
  "anaconda-cloud": {},
  "kernelspec": {
   "display_name": "Python 3",
   "language": "python",
   "name": "python3"
  },
  "language_info": {
   "codemirror_mode": {
    "name": "ipython",
    "version": 3
   },
   "file_extension": ".py",
   "mimetype": "text/x-python",
   "name": "python",
   "nbconvert_exporter": "python",
   "pygments_lexer": "ipython3",
   "version": "3.5.2"
  }
 },
 "nbformat": 4,
 "nbformat_minor": 2
}
