{
 "cells": [
  {
   "cell_type": "markdown",
   "metadata": {},
   "source": [
    "# Networks: structure, evolution & processes\n",
    "**Internet Analytics - Lab 2**\n",
    "\n",
    "---\n",
    "\n",
    "**Group:** *P*\n",
    "\n",
    "**Names:**\n",
    "\n",
    "* *Matthias Leroy*\n",
    "* *Alexandre Poussard*\n",
    "* *Pierre Fouche*\n",
    "\n",
    "---\n",
    "\n",
    "#### Instructions\n",
    "\n",
    "*This is a template for part 1 of the lab. Clearly write your answers, comments and interpretations in Markodown cells. Don't forget that you can add $\\LaTeX$ equations in these cells. Feel free to add or remove any cell.*\n",
    "\n",
    "*Please properly comment your code. Code readability will be considered for grading. To avoid long cells of codes in the notebook, you can also embed long python functions and classes in a separate module. Don’t forget to hand in your module if that is the case. In multiple exercises, you are required to come up with your own method to solve various problems. Be creative and clearly motivate and explain your methods. Creativity and clarity will be considered for grading.*"
   ]
  },
  {
   "cell_type": "markdown",
   "metadata": {},
   "source": [
    "---\n",
    "\n",
    "## 2.1 Exploration of real networks\n",
    "\n",
    "#### Exercise 2.1"
   ]
  },
  {
   "cell_type": "code",
   "execution_count": 1,
   "metadata": {
    "collapsed": false
   },
   "outputs": [
    {
     "name": "stdout",
     "output_type": "stream",
     "text": [
      "18584\n",
      "13033\n"
     ]
    }
   ],
   "source": [
    "%matplotlib inline\n",
    "import matplotlib.pyplot as plt\n",
    "import numpy as np\n",
    "import networkx as nx\n",
    "import collections\n",
    "\n",
    "graph1 = nx.read_edgelist('../data/network1.csv', delimiter = \",\")\n",
    "nbr_edges = nx.number_of_edges(graph1)\n",
    "nbr_nodes = nx.number_of_nodes(graph1)\n",
    "print(nbr_edges)\n",
    "print(nbr_nodes)"
   ]
  },
  {
   "cell_type": "markdown",
   "metadata": {},
   "source": [
    "#### Exercise 2.2:  Node degree distribution"
   ]
  },
  {
   "cell_type": "code",
   "execution_count": 10,
   "metadata": {
    "collapsed": false
   },
   "outputs": [
    {
     "name": "stdout",
     "output_type": "stream",
     "text": [
      "Counter({1: 8192, 2: 2889, 3: 736, 4: 331, 5: 202, 6: 132, 7: 86, 8: 53, 9: 49, 10: 43, 11: 36, 15: 27, 12: 18, 17: 16, 14: 15, 13: 13, 20: 13, 19: 10, 24: 10, 21: 9, 16: 8, 22: 8, 18: 7, 28: 7, 23: 6, 34: 6, 25: 5, 26: 5, 29: 5, 30: 5, 32: 4, 64: 4, 27: 3, 33: 3, 40: 3, 53: 3, 75: 3, 129: 3, 35: 2, 36: 2, 38: 2, 45: 2, 46: 2, 48: 2, 52: 2, 56: 2, 113: 2, 31: 1, 39: 1, 41: 1, 42: 1, 44: 1, 47: 1, 49: 1, 50: 1, 51: 1, 54: 1, 55: 1, 57: 1, 58: 1, 59: 1, 60: 1, 62: 1, 69: 1, 70: 1, 73: 1, 77: 1, 79: 1, 81: 1, 86: 1, 91: 1, 95: 1, 1083: 1, 300: 1, 106: 1, 619: 1, 379: 1, 126: 1, 128: 1, 141: 1, 148: 1, 155: 1, 159: 1, 168: 1, 691: 1, 194: 1, 455: 1, 1482: 1, 207: 1, 467: 1, 216: 1, 292: 1, 225: 1, 248: 1})\n"
     ]
    },
    {
     "data": {
      "image/png": "[encoded data removed]",
      "text/plain": [
       "<matplotlib.figure.Figure at 0x7fe0f0e23c88>"
      ]
     },
     "metadata": {},
     "output_type": "display_data"
    }
   ],
   "source": [
    "degree = graph1.degree(graph1.nodes())\n",
    "degreeCount = collections.Counter(sorted(list(degree.values())))\n",
    "print(degreeCount)\n",
    "plt.plot(list(degreeCount.keys()),list(degreeCount.values()))\n",
    "plt.axis([0,248,0,9000])\n",
    "plt.show()         \n"
   ]
  },
  {
   "cell_type": "markdown",
   "metadata": {},
   "source": [
    "#### Exercise 2.3: Giant component"
   ]
  },
  {
   "cell_type": "code",
   "execution_count": null,
   "metadata": {
    "collapsed": false
   },
   "outputs": [],
   "source": [
    "print(nx.number_connected_components(graph1))\n",
    "giant = max(nx.connected_component_subgraphs(graph1), key=len)\n",
    "print(len(giant))"
   ]
  },
  {
   "cell_type": "markdown",
   "metadata": {},
   "source": [
    "#### Exercise 2.4: Short paths & Small-worlds"
   ]
  },
  {
   "cell_type": "code",
   "execution_count": 6,
   "metadata": {
    "collapsed": false
   },
   "outputs": [
    {
     "name": "stdout",
     "output_type": "stream",
     "text": [
      "158157161\n"
     ]
    }
   ],
   "source": [
    "dicPath = nx.shortest_path_length(graph1)\n",
    "path = []\n",
    "for value in dicPath.values():\n",
    "    for value2 in value.values():\n",
    "        path.append(value2)\n",
    "print(len(path))"
   ]
  },
  {
   "cell_type": "markdown",
   "metadata": {},
   "source": [
    "#### Exercise 2.5: Network comparison"
   ]
  },
  {
   "cell_type": "code",
   "execution_count": 14,
   "metadata": {
    "collapsed": false
   },
   "outputs": [
    {
     "name": "stdout",
     "output_type": "stream",
     "text": [
      "Counter({4: 65474728, 5: 36566228, 3: 34525164, 6: 12475344, 2: 5419352, 7: 2979234, 8: 575000, 9: 81668, 1: 37168, 0: 13033, 10: 9442, 11: 772, 12: 28})\n"
     ]
    },
    {
     "data": {
      "image/png": "[encoded data removed]",
      "text/plain": [
       "<matplotlib.figure.Figure at 0x7fe0f0670da0>"
      ]
     },
     "metadata": {},
     "output_type": "display_data"
    }
   ],
   "source": [
    "distribPath = collections.Counter(path)\n",
    "print(distribPath)\n",
    "plt.hist(list(distribPath.keys()))\n",
    "plt.show()"
   ]
  },
  {
   "cell_type": "markdown",
   "metadata": {},
   "source": [
    "#### Exercise 2.6: Network identification"
   ]
  },
  {
   "cell_type": "code",
   "execution_count": null,
   "metadata": {
    "collapsed": false
   },
   "outputs": [],
   "source": [
    "graph2 = nx.read_edgelist('../data/network2.csv', delimiter = \",\")\n",
    "nbr_edges2 = nx.number_of_edges(graph2)\n",
    "nbr_nodes2 = nx.number_of_nodes(graph2)\n",
    "print(nbr_edges)\n",
    "print(nbr_nodes)\n",
    "degree2 = graph1.degree(graph2.nodes())\n",
    "degreeCount2 = collections.Counter(sorted(list(degree2.values())))\n",
    "print(degreeCount2)\n",
    "plt.loglog(list(degreeCount2.values()))\n",
    "plt.show()\n",
    "print(nx.number_connected_components(graph2))\n",
    "giant2 = max(nx.connected_component_subgraphs(graph2), key=len)\n",
    "print(len(giant2))\n"
   ]
  }
 ],
 "metadata": {
  "anaconda-cloud": {},
  "kernelspec": {
   "display_name": "Python 3",
   "language": "python",
   "name": "python3"
  },
  "language_info": {
   "codemirror_mode": {
    "name": "ipython",
    "version": 3
   },
   "file_extension": ".py",
   "mimetype": "text/x-python",
   "name": "python",
   "nbconvert_exporter": "python",
   "pygments_lexer": "ipython3",
   "version": "3.5.2"
  }
 },
 "nbformat": 4,
 "nbformat_minor": 2
}
