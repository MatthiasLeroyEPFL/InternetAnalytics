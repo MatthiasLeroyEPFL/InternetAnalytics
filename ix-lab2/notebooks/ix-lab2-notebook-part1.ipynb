{
 "cells": [
  {
   "cell_type": "markdown",
   "metadata": {},
   "source": [
    "# Networks: structure, evolution & processes\n",
    "**Internet Analytics - Lab 2**\n",
    "\n",
    "---\n",
    "\n",
    "**Group:** *P*\n",
    "\n",
    "**Names:**\n",
    "\n",
    "* *Matthias Leroy*\n",
    "* *Alexandre Poussard*\n",
    "* *Pierre Fouche*\n",
    "\n",
    "---\n",
    "\n",
    "#### Instructions\n",
    "\n",
    "*This is a template for part 1 of the lab. Clearly write your answers, comments and interpretations in Markodown cells. Don't forget that you can add $\\LaTeX$ equations in these cells. Feel free to add or remove any cell.*\n",
    "\n",
    "*Please properly comment your code. Code readability will be considered for grading. To avoid long cells of codes in the notebook, you can also embed long python functions and classes in a separate module. Don’t forget to hand in your module if that is the case. In multiple exercises, you are required to come up with your own method to solve various problems. Be creative and clearly motivate and explain your methods. Creativity and clarity will be considered for grading.*"
   ]
  },
  {
   "cell_type": "markdown",
   "metadata": {},
   "source": [
    "---\n",
    "\n",
    "## 2.1 Exploration of real networks\n",
    "\n",
    "#### Exercise 2.1"
   ]
  },
  {
   "cell_type": "code",
   "execution_count": null,
   "metadata": {
    "collapsed": true
   },
   "outputs": [],
   "source": [
    "import matplotlib.pyplot as plt\n",
    "import numpy as np\n",
    "import networkx as nx\n",
    "import collections as cl"
   ]
  },
  {
   "cell_type": "code",
   "execution_count": null,
   "metadata": {
    "collapsed": false
   },
   "outputs": [],
   "source": [
    "#1) We load the graph with networkx\n",
    "graph1 = nx.read_edgelist('../data/network1.csv', delimiter = \",\")"
   ]
  },
  {
   "cell_type": "code",
   "execution_count": null,
   "metadata": {
    "collapsed": false
   },
   "outputs": [],
   "source": [
    "#2) We compute the number of edges and nodes of network1\n",
    "nbr_edges = nx.number_of_edges(graph1)\n",
    "nbr_nodes = nx.number_of_nodes(graph1)\n",
    "print(nbr_edges, nbr_nodes)"
   ]
  },
  {
   "cell_type": "markdown",
   "metadata": {},
   "source": [
    "2) The network has 13033 nodes and 18584 edges"
   ]
  },
  {
   "cell_type": "markdown",
   "metadata": {},
   "source": [
    "#### Exercise 2.2:  Node degree distribution"
   ]
  },
  {
   "cell_type": "code",
   "execution_count": null,
   "metadata": {
    "collapsed": true
   },
   "outputs": [],
   "source": [
    "def degreeDistribution(graph):\n",
    "    #Get a dictionary where the key is the node and the value its degree\n",
    "    degree = graph.degree(graph.nodes())\n",
    "    sortedDegreeValues = sorted(list(degree.values()))\n",
    "    \n",
    "    #To get the degree distribution we use this function that sum occurrences of words in a list and return a dictionary where the key is a degree and the value the number of nodes with this degree\n",
    "    degreeCount = cl.Counter(sortedDegreeValues)\n",
    "    \n",
    "    #In order to correctly visualize the node degree distribution we have to use a log scaling on both axis\n",
    "    plt.loglog(list(degreeCount.values()))\n",
    "    plt.title(\"Log-log degree distribution plot\", fontsize=15)\n",
    "    plt.xlabel(\"Degree\", fontsize=10)\n",
    "    plt.ylabel(\"Number of nodes\", fontsize=10)\n",
    "    plt.grid()\n",
    "    plt.show()"
   ]
  },
  {
   "cell_type": "code",
   "execution_count": null,
   "metadata": {
    "collapsed": false,
    "scrolled": true
   },
   "outputs": [],
   "source": [
    "degreeDistribution(graph1)"
   ]
  },
  {
   "cell_type": "markdown",
   "metadata": {},
   "source": [
    "1) The distribution is widely distributed with big values that is why we have to plot using a logarithmic scale for both axis.\n",
    "We can use a loglog plot of pyplot in order to do this."
   ]
  },
  {
   "cell_type": "code",
   "execution_count": null,
   "metadata": {
    "collapsed": false
   },
   "outputs": [],
   "source": [
    "#We can find the mean, variance and standard deviation of the degree distribution\n",
    "sortedDegreeValues = sorted(list(graph1.degree(graph1.nodes()).values()))\n",
    "mean = np.mean(sortedDegreeValues)\n",
    "var = np.var(sortedDegreeValues)\n",
    "std = np.std(sortedDegreeValues)\n",
    "print(mean, var, std)"
   ]
  },
  {
   "cell_type": "markdown",
   "metadata": {},
   "source": [
    "2) The mean, the variance and the standart deviation of the degree distibution are respectively and approximately : 2.85, 435.13 and 20.86"
   ]
  },
  {
   "cell_type": "markdown",
   "metadata": {},
   "source": [
    "3) The node degree distribution seems to be Pareto distribution. The scale parameter $x_m$ is equal to 1 (the smallest possible value). And the shape parameter $\\alpha$ is equal to 1.54. In fact the expected value of a Pareto distribution is $E(x)=\\frac{\\alpha \\dot x_m}{\\alpha - 1}$. Thus with $E(x)=2.85$ we find $\\alpha=1.54$."
   ]
  },
  {
   "cell_type": "markdown",
   "metadata": {},
   "source": [
    "#### Exercise 2.3: Giant component"
   ]
  },
  {
   "cell_type": "code",
   "execution_count": null,
   "metadata": {
    "collapsed": false
   },
   "outputs": [],
   "source": [
    "#We get the number of connected comonents\n",
    "nbConnectedComponent = nx.number_connected_components(graph1)\n",
    "print(nbConnectedComponent)\n",
    "\n",
    "#In order to find if there is a giant component in the graph we can start by finding all its connected components\n",
    "conComponent = nx.connected_component_subgraphs(graph1)\n",
    "#Then we find the component  with the larger number of edges\n",
    "giant = max(conComponent, key=nx.number_of_edges)\n",
    "#We get the size of the bigger component if this number is enough we can say that is a giant component\n",
    "size = nx.number_of_edges(giant)\n",
    "print(size)"
   ]
  },
  {
   "cell_type": "markdown",
   "metadata": {},
   "source": [
    "1) There are 192 connected components in network1.\n",
    "\n",
    "2) There is a giant component, its size (number of edges) is 1."
   ]
  },
  {
   "cell_type": "markdown",
   "metadata": {},
   "source": [
    "#### Exercise 2.4: Short paths & Small-worlds"
   ]
  },
  {
   "cell_type": "code",
   "execution_count": null,
   "metadata": {
    "collapsed": true
   },
   "outputs": [],
   "source": [
    "def shortPaths(graph):\n",
    "    #Create a dictionary of dictionaries with the length of the shortest path between all the nodes\n",
    "    dicPath = nx.all_pairs_shortest_path_length(graph)\n",
    "    path = []\n",
    "    #Extract all the length\n",
    "    for value in dicPath.values():\n",
    "        path.extend(list(value.values()))\n",
    "    #Count the different occurences of length\n",
    "    distribPath = cl.Counter(path)\n",
    "    #Plot the distribution of length\n",
    "    plt.plot(list(distribPath.values()))\n",
    "    plt.show()\n",
    "    #Compute the average numbers of nodes reachable from a node in 6 hops\n",
    "    sum = 0\n",
    "    for i in range(6):\n",
    "        sum += distribPath[i+1]\n",
    "    return sum/nx.number_of_nodes(graph)"
   ]
  },
  {
   "cell_type": "code",
   "execution_count": null,
   "metadata": {
    "collapsed": false
   },
   "outputs": [],
   "source": [
    "average = shortPaths(graph1)\n",
    "print(average)"
   ]
  },
  {
   "cell_type": "markdown",
   "metadata": {
    "collapsed": false
   },
   "source": [
    "We can see that the length of the shortest distance between any two nodes of the graph is between 1 and 6. Moreover we reach, in average, almost every nodes in the graph (12 000) from any nodes of the graph in 6 hops. So we can conclude that this graph is a small world\n"
   ]
  },
  {
   "cell_type": "markdown",
   "metadata": {},
   "source": [
    "#### Exercise 2.5: Network comparison"
   ]
  },
  {
   "cell_type": "code",
   "execution_count": null,
   "metadata": {
    "collapsed": false
   },
   "outputs": [],
   "source": [
    "graph2 = nx.read_edgelist('../data/network2.csv', delimiter = \",\")\n",
    "nbr_edges2 = nx.number_of_edges(graph2)\n",
    "nbr_nodes2 = nx.number_of_nodes(graph2)\n",
    "print(nbr_edges2, nbr_nodes2)\n",
    "\n",
    "\n",
    "degreeDistribution(graph2)\n",
    "average2 = shortPaths(graph2)\n",
    "print(average2)"
   ]
  },
  {
   "cell_type": "markdown",
   "metadata": {},
   "source": [
    "The network has 43516 edges and 26542 nodes. We can see that the length of the shortest distance between any two nodes of the graph is much bigger than 6. Moreover we reach, in average, 71 nodes from any nodes of the graph in 6 hops, which is far away of the total number of nodes. So we can conclude that this graph is not a small world\n"
   ]
  },
  {
   "cell_type": "markdown",
   "metadata": {},
   "source": [
    "#### Exercise 2.6: Network identification"
   ]
  },
  {
   "cell_type": "markdown",
   "metadata": {
    "collapsed": false
   },
   "source": [
    "We can say that the network2 is the network of the road around New-York. Indeed the degree distribution of the first graph, shows nodes with degree superior at 100 which is impossible for a network of road. The degree distribution of the secound graph shows that all the nodes have a degree between 1 and 8. So the network of the road of New-York must be the secound one"
   ]
  }
 ],
 "metadata": {
  "anaconda-cloud": {},
  "kernelspec": {
   "display_name": "Python 3",
   "language": "python",
   "name": "python3"
  },
  "language_info": {
   "codemirror_mode": {
    "name": "ipython",
    "version": 3
   },
   "file_extension": ".py",
   "mimetype": "text/x-python",
   "name": "python",
   "nbconvert_exporter": "python",
   "pygments_lexer": "ipython3",
   "version": "3.5.2"
  }
 },
 "nbformat": 4,
 "nbformat_minor": 2
}
