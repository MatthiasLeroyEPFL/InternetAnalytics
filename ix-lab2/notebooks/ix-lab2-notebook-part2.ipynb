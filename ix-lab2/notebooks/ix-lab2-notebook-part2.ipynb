{
 "cells": [
  {
   "cell_type": "markdown",
   "metadata": {},
   "source": [
    "# Networks: structure, evolution & processes\n",
    "**Internet Analytics - Lab 2**\n",
    "\n",
    "---\n",
    "\n",
    "**Group:** *P*\n",
    "\n",
    "**Names:**\n",
    "\n",
    "* *Matthias Leroy*\n",
    "* *Pierre Fouche*\n",
    "* *Alexandre Poussard*\n",
    "\n",
    "---\n",
    "\n",
    "#### Instructions\n",
    "\n",
    "*This is a template for part 2 of the lab. Clearly write your answers, comments and interpretations in Markodown cells. Don't forget that you can add $\\LaTeX$ equations in these cells. Feel free to add or remove any cell.*\n",
    "\n",
    "*Please properly comment your code. Code readability will be considered for grading. To avoid long cells of codes in the notebook, you can also embed long python functions and classes in a separate module. Don’t forget to hand in your module if that is the case. In multiple exercises, you are required to come up with your own method to solve various problems. Be creative and clearly motivate and explain your methods. Creativity and clarity will be considered for grading.*"
   ]
  },
  {
   "cell_type": "markdown",
   "metadata": {},
   "source": [
    "---\n",
    "\n",
    "## 2.2 Network sampling\n",
    "\n",
    "#### Exercise 2.7: Random walk on the Facebook network"
   ]
  },
  {
   "cell_type": "code",
   "execution_count": null,
   "metadata": {
    "collapsed": false
   },
   "outputs": [],
   "source": [
    "import requests\n",
    "from random import randint\n",
    "\n",
    "#Parameters to start the algorithm\n",
    "URL_TEMPLATE = 'http://iccluster118.iccluster.epfl.ch:5050/v1.0/facebook?user={user_id}'\n",
    "N = 1000\n",
    "sumAge = 0\n",
    "i = 0\n",
    "user_id = 'f30ff3966f16ed62f5165a229a19b319'\n",
    "while i < N:\n",
    "    url = URL_TEMPLATE.format(user_id=user_id)\n",
    "    response = requests.get(url)\n",
    "    response = response.json()\n",
    "    \n",
    "    sumAge += response['age']\n",
    "    #Choose a friend randomly\n",
    "    index = randint(0,len(response['friends'])-1)\n",
    "    user_id = response['friends'][index]\n",
    "    i = i+1\n",
    "print(sumAge/N)"
   ]
  },
  {
   "cell_type": "markdown",
   "metadata": {},
   "source": [
    "Our estimation of the average age of a facebook user is 25.5 years. We visited 1000 users to find this estimation."
   ]
  },
  {
   "cell_type": "markdown",
   "metadata": {},
   "source": [
    "#### Exercise 2.8"
   ]
  },
  {
   "cell_type": "markdown",
   "metadata": {
    "collapsed": true
   },
   "source": [
    "Our estimation is far from the real average age by almost 20 years. Indeed our algorithm allows us to visit mutiple times the same user. To avoid that we can keep in memory all the user already visited and add a condition in the algorithm. "
   ]
  }
 ],
 "metadata": {
  "anaconda-cloud": {},
  "kernelspec": {
   "display_name": "Python 3",
   "language": "python",
   "name": "python3"
  },
  "language_info": {
   "codemirror_mode": {
    "name": "ipython",
    "version": 3
   },
   "file_extension": ".py",
   "mimetype": "text/x-python",
   "name": "python",
   "nbconvert_exporter": "python",
   "pygments_lexer": "ipython3",
   "version": "3.5.2"
  }
 },
 "nbformat": 4,
 "nbformat_minor": 2
}
