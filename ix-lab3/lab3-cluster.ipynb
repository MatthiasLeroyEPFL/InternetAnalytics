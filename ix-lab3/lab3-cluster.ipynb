{
 "cells": [
  {
   "cell_type": "markdown",
   "metadata": {},
   "source": [
    "# Lab 3 — clustering"
   ]
  },
  {
   "cell_type": "code",
   "execution_count": null,
   "metadata": {
    "collapsed": false
   },
   "outputs": [],
   "source": [
    "import json\n",
    "import matplotlib.pyplot as plt\n",
    "import numpy as np\n",
    "import pickle\n",
    "from scipy import spatial\n",
    "from bokeh.io import show, output_notebook\n",
    "from bokeh.plotting import figure, ColumnDataSource\n",
    "from bokeh.models import HoverTool, ResetTool, PanTool, WheelZoomTool, SaveTool\n",
    "output_notebook()\n",
    "from bokeh.palettes import Dark2_8\n",
    "\n",
    "%matplotlib inline\n",
    "plt.style.use(\"ggplot\")"
   ]
  },
  {
   "cell_type": "code",
   "execution_count": null,
   "metadata": {
    "collapsed": false
   },
   "outputs": [],
   "source": [
    "with open(\"tagsCoordinates.pickle\", \"rb\") as f:\n",
    "    tagsCoord = pickle.load(f, encoding=\"utf-8\")"
   ]
  },
  {
   "cell_type": "code",
   "execution_count": null,
   "metadata": {
    "collapsed": false
   },
   "outputs": [],
   "source": [
    "from sklearn.cluster import KMeans\n",
    "\n",
    "twoDir = np.zeros([len(tagsCoord),2])\n",
    "threeDir = np.zeros([len(tagsCoord),3])\n",
    "fourDir = np.zeros([len(tagsCoord),4])\n",
    "fiveDir = np.zeros([len(tagsCoord),5])\n",
    "\n",
    "i = 0\n",
    "for tags,coord in tagsCoord.items():\n",
    "    twoDir[i,0] = coord[0]\n",
    "    twoDir[i,1] = coord[1]\n",
    "    i += 1    \n",
    "    \n"
   ]
  },
  {
   "cell_type": "code",
   "execution_count": null,
   "metadata": {
    "collapsed": true
   },
   "outputs": [],
   "source": [
    "def drawPlot(array,color):\n",
    "    source = ColumnDataSource(\n",
    "        data={\n",
    "            \"x\": [x[0] for x in array ],\n",
    "            \"y\": [x[1] for x in array],\n",
    "            \"name\": [x for x in tagsCoord.keys()],\n",
    "            \"color\": [Dark2_8[x] for x in color],\n",
    "        })\n",
    "\n",
    "    hover = HoverTool(\n",
    "        tooltips=[\n",
    "            (\"Name\", \"@name\"),\n",
    "        ])\n",
    "    tools = [hover, ResetTool(), PanTool(), WheelZoomTool(), SaveTool()]\n",
    "\n",
    "    p = figure(plot_width=960, plot_height=360, tools=tools, title=\"Mouse over the dots\")\n",
    "    p.circle(\"x\", \"y\", source=source, size=20, color=\"color\", alpha=0.5)\n",
    "    return p"
   ]
  },
  {
   "cell_type": "code",
   "execution_count": null,
   "metadata": {
    "collapsed": true
   },
   "outputs": [],
   "source": [
    "def computeCluster(k,array):\n",
    "    kmeans = KMeans(n_clusters=k).fit(array)\n",
    "    color =[]\n",
    "    for item in array:\n",
    "        d1 =spatial.distance.euclidean(item,kmeans.cluster_centers_[0])\n",
    "        d2 =spatial.distance.euclidean(item,kmeans.cluster_centers_[1])\n",
    "        if d1<d2:\n",
    "            color.append(0)\n",
    "        else:\n",
    "            color.append(2)\n",
    "    return drawPlot(array,color)"
   ]
  },
  {
   "cell_type": "code",
   "execution_count": null,
   "metadata": {
    "collapsed": false
   },
   "outputs": [],
   "source": [
    "s=computeCluster(2,twoDir)\n",
    "show(s,notebook_handle=True)"
   ]
  },
  {
   "cell_type": "code",
   "execution_count": null,
   "metadata": {
    "collapsed": false
   },
   "outputs": [],
   "source": [
    "# Categorial colors\n",
    "\n",
    "\n",
    "\n",
    "show(p, notebook_handle=True)"
   ]
  }
 ],
 "metadata": {
  "anaconda-cloud": {},
  "kernelspec": {
   "display_name": "Python 3",
   "language": "python",
   "name": "python3"
  },
  "language_info": {
   "codemirror_mode": {
    "name": "ipython",
    "version": 3
   },
   "file_extension": ".py",
   "mimetype": "text/x-python",
   "name": "python",
   "nbconvert_exporter": "python",
   "pygments_lexer": "ipython3",
   "version": "3.5.2"
  }
 },
 "nbformat": 4,
 "nbformat_minor": 1
}
