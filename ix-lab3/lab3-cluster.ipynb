{
 "cells": [
  {
   "cell_type": "markdown",
   "metadata": {},
   "source": [
    "# Lab 3 — clustering"
   ]
  },
  {
   "cell_type": "code",
   "execution_count": null,
   "metadata": {
    "collapsed": false
   },
   "outputs": [],
   "source": [
    "import json\n",
    "import matplotlib.pyplot as plt\n",
    "import numpy as np\n",
    "import pickle\n",
    "from scipy import spatial\n",
    "from sklearn import metrics\n",
    "from bokeh.io import show, output_notebook\n",
    "from bokeh.plotting import figure, ColumnDataSource\n",
    "from bokeh.models import HoverTool, ResetTool, PanTool, WheelZoomTool, SaveTool\n",
    "output_notebook()\n",
    "from bokeh.palettes import Dark2_8\n",
    "import json\n",
    "import itertools\n",
    "import random\n",
    "import collections\n",
    "\n",
    "%matplotlib inline\n",
    "plt.style.use(\"ggplot\")"
   ]
  },
  {
   "cell_type": "code",
   "execution_count": null,
   "metadata": {
    "collapsed": false
   },
   "outputs": [],
   "source": [
    "#We load the tags Coordinates\n",
    "with open(\"tagsCoordinates.pickle\", \"rb\") as f:\n",
    "    tagsCoord = pickle.load(f, encoding=\"utf-8\")"
   ]
  },
  {
   "cell_type": "code",
   "execution_count": null,
   "metadata": {
    "collapsed": false
   },
   "outputs": [],
   "source": [
    "from sklearn.cluster import KMeans\n",
    "\n",
    "coordinates = np.zeros([len(tagsCoord),5])\n",
    "\n",
    "#We modify the tags coordinates in order to be usable for the plot\n",
    "i = 0\n",
    "for tags,coord in tagsCoord.items():\n",
    "    coordinates[i,0] = coord[0]\n",
    "    coordinates[i,1] = coord[1]\n",
    "    coordinates[i,2] = coord[2]\n",
    "    coordinates[i,3] = coord[3]\n",
    "    coordinates[i,4] = coord[4]\n",
    "    i += 1\n"
   ]
  },
  {
   "cell_type": "code",
   "execution_count": null,
   "metadata": {
    "collapsed": true
   },
   "outputs": [],
   "source": [
    "#Draw The plot\n",
    "def drawPlot(array,color):\n",
    "    source = ColumnDataSource(\n",
    "        data={\n",
    "            \"x\": [x[0] for x in array ],\n",
    "            \"y\": [x[1] for x in array],\n",
    "            \"name\": [x for x in tagsCoord.keys()],\n",
    "            \"color\": [Dark2_8[x] for x in color],\n",
    "        })\n",
    "\n",
    "    hover = HoverTool(\n",
    "        tooltips=[\n",
    "            (\"Name\", \"@name\"),\n",
    "        ])\n",
    "    tools = [hover, ResetTool(), PanTool(), WheelZoomTool(), SaveTool()]\n",
    "\n",
    "    p = figure(plot_width=960, plot_height=360, tools=tools, title=\"Mouse over the dots\")\n",
    "    p.circle(\"x\", \"y\", source=source, size=20, color=\"color\", alpha=0.5)\n",
    "    return p"
   ]
  },
  {
   "cell_type": "code",
   "execution_count": null,
   "metadata": {
    "collapsed": false
   },
   "outputs": [],
   "source": [
    "#This function cluster the datausing the k-means clustering algorithm for a given k and array\n",
    "def computeCluster(k,array):\n",
    "    kmeans = KMeans(n_clusters=k).fit(array)\n",
    "    color =[]   \n",
    "    for item in array:\n",
    "        dist = []\n",
    "        for d in range(k):\n",
    "            #compute the distance between the nodes and the cluster_centers\n",
    "            dist.append(spatial.distance.euclidean(item,kmeans.cluster_centers_[d]))\n",
    "        idxColor = np.argsort(dist)\n",
    "        color.append(idxColor[0])\n",
    "    \n",
    "    return drawPlot(array,color)"
   ]
  },
  {
   "cell_type": "code",
   "execution_count": null,
   "metadata": {
    "collapsed": false
   },
   "outputs": [],
   "source": [
    "import itertools\n",
    "\n",
    "combi = itertools.combinations([0,1,2,3,4], 2)\n",
    "\n",
    "#We visualize the cluster for k = (2,3,4,5) and for each principal directions\n",
    "for item in combi:\n",
    "    for i in range(2,6):\n",
    "        col1 = coordinates[:,item[0]]\n",
    "        col2 = coordinates[:,item[1]]\n",
    "        array = np.column_stack((col1,col2))\n",
    "        s = computeCluster(i,array)\n",
    "        show(s,notebook_handle=True)"
   ]
  },
  {
   "cell_type": "markdown",
   "metadata": {},
   "source": [
    "Exercise 3.11)\n",
    "\n",
    "The first principal direction, associate with every other ones separate the cluster well."
   ]
  },
  {
   "cell_type": "code",
   "execution_count": null,
   "metadata": {
    "collapsed": false
   },
   "outputs": [],
   "source": [
    "#Create dictionary\n",
    "movies = sc.textFile(\"/ix/ml-20m/movies.txt\").map(json.loads).map(lambda x: (x['movieId'],x['genres'])).collect()\n",
    "moviesDict = {}\n",
    "for movie in movies:\n",
    "    moviesDict[movie[0]] = movie[1]\n",
    "\n",
    "                                                                  "
   ]
  },
  {
   "cell_type": "code",
   "execution_count": null,
   "metadata": {
    "collapsed": false
   },
   "outputs": [],
   "source": [
    "#Compute Jaccard distance\n",
    "def distance(a,b):\n",
    "    temp = a+b\n",
    "    temp2 = set(a).intersection(b)\n",
    "    index = len(temp2)/len(temp)\n",
    "    return 1-index\n",
    "#Implement 2-medioids algorith\n",
    "medioids=[]\n",
    "exMedioids=[]\n",
    "for i in range(2):\n",
    "    medioids.append(random.choice(list(moviesDict.items())))\n",
    "while medioids != exMedioids:\n",
    "    clusters = [{},{}]\n",
    "    exMedioids = medioids\n",
    "\n",
    "    \n",
    "    for key,value in moviesDict.items():\n",
    "        index = -1\n",
    "        minValue = 500\n",
    "        for i,medioid in enumerate(medioids):\n",
    "            if distance(medioid[1],value) < minValue:\n",
    "                index=i\n",
    "                minValue = distance(medioid[1],value)\n",
    "        clusters[index][key]=value\n",
    "    for i in range(2):\n",
    "        index = -1\n",
    "        minValue = 500\n",
    "        temp = clusters[i].items()\n",
    "        \n",
    "        for key,value in temp:\n",
    "            sum = 0\n",
    "            for key2,value2 in temp:\n",
    "                if key != key2:\n",
    "                    sum += distance(value,value2)\n",
    "        if sum < minValue:\n",
    "            minValue = sum\n",
    "            medioids[i] = {key:value}\n",
    "                    \n",
    "                    \n",
    "                    \n",
    "    "
   ]
  },
  {
   "cell_type": "code",
   "execution_count": null,
   "metadata": {
    "collapsed": false
   },
   "outputs": [],
   "source": [
    "#Plot the frequency of genre\n",
    "for i in range(2):\n",
    "    genre =[]\n",
    "    for genres in clusters[i].values():\n",
    "        genre.extend(genres)\n",
    "    genre = dict(collections.Counter(genre))\n",
    "    x=range(len(list(genre.values())))\n",
    "    ax=plt.subplot()\n",
    "    ax.bar(x,list(genre.values()),tick_label=list(genre.keys()))\n",
    "    ax.set_xticklabels(list(genre.keys()),rotation=90)\n",
    "    plt.show()"
   ]
  },
  {
   "cell_type": "code",
   "execution_count": null,
   "metadata": {
    "collapsed": true
   },
   "outputs": [],
   "source": []
  }
 ],
 "metadata": {
  "anaconda-cloud": {},
  "kernelspec": {
   "display_name": "Python 3",
   "language": "python",
   "name": "python3"
  },
  "language_info": {
   "codemirror_mode": {
    "name": "ipython",
    "version": 3
   },
   "file_extension": ".py",
   "mimetype": "text/x-python",
   "name": "python",
   "nbconvert_exporter": "python",
   "pygments_lexer": "ipython3",
   "version": "3.5.2"
  }
 },
 "nbformat": 4,
 "nbformat_minor": 1
}
