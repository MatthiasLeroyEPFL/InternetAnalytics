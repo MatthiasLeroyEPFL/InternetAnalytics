{
 "cells": [
  {
   "cell_type": "markdown",
   "metadata": {},
   "source": [
    "# Lab 3 — clustering"
   ]
  },
  {
   "cell_type": "code",
   "execution_count": null,
   "metadata": {
    "collapsed": false
   },
   "outputs": [],
   "source": [
    "import json\n",
    "import matplotlib.pyplot as plt\n",
    "import numpy as np\n",
    "import pickle\n",
    "from scipy import spatial\n",
    "from sklearn import metrics\n",
    "from bokeh.io import show, output_notebook\n",
    "from bokeh.plotting import figure, ColumnDataSource\n",
    "from bokeh.models import HoverTool, ResetTool, PanTool, WheelZoomTool, SaveTool\n",
    "output_notebook()\n",
    "from bokeh.palettes import Dark2_8\n",
    "import json\n",
    "import itertools\n",
    "import random\n",
    "import collections\n",
    "\n",
    "%matplotlib inline\n",
    "plt.style.use(\"ggplot\")"
   ]
  },
  {
   "cell_type": "code",
   "execution_count": null,
   "metadata": {
    "collapsed": false
   },
   "outputs": [],
   "source": [
    "with open(\"tagsCoordinates.pickle\", \"rb\") as f:\n",
    "    tagsCoord = pickle.load(f, encoding=\"utf-8\")"
   ]
  },
  {
   "cell_type": "code",
   "execution_count": null,
   "metadata": {
    "collapsed": false
   },
   "outputs": [],
   "source": [
    "from sklearn.cluster import KMeans\n",
    "\n",
    "twoDir = np.zeros([len(tagsCoord),2])\n",
    "threeDir = np.zeros([len(tagsCoord),3])\n",
    "fourDir = np.zeros([len(tagsCoord),4])\n",
    "fiveDir = np.zeros([len(tagsCoord),5])\n",
    "\n",
    "i = 0\n",
    "for tags,coord in tagsCoord.items():\n",
    "    twoDir[i,0] = coord[0]\n",
    "    twoDir[i,1] = coord[1]\n",
    "    i += 1    \n",
    "    \n"
   ]
  },
  {
   "cell_type": "code",
   "execution_count": null,
   "metadata": {
    "collapsed": true
   },
   "outputs": [],
   "source": [
    "def drawPlot(array,color):\n",
    "    source = ColumnDataSource(\n",
    "        data={\n",
    "            \"x\": [x[0] for x in array ],\n",
    "            \"y\": [x[1] for x in array],\n",
    "            \"name\": [x for x in tagsCoord.keys()],\n",
    "            \"color\": [Dark2_8[x] for x in color],\n",
    "        })\n",
    "\n",
    "    hover = HoverTool(\n",
    "        tooltips=[\n",
    "            (\"Name\", \"@name\"),\n",
    "        ])\n",
    "    tools = [hover, ResetTool(), PanTool(), WheelZoomTool(), SaveTool()]\n",
    "\n",
    "    p = figure(plot_width=960, plot_height=360, tools=tools, title=\"Mouse over the dots\")\n",
    "    p.circle(\"x\", \"y\", source=source, size=20, color=\"color\", alpha=0.5)\n",
    "    return p"
   ]
  },
  {
   "cell_type": "code",
   "execution_count": null,
   "metadata": {
    "collapsed": true
   },
   "outputs": [],
   "source": [
    "def computeCluster(k,array):\n",
    "    kmeans = KMeans(n_clusters=k).fit(array)\n",
    "    color =[]\n",
    "    for item in array:\n",
    "        d1 =spatial.distance.euclidean(item,kmeans.cluster_centers_[0])\n",
    "        d2 =spatial.distance.euclidean(item,kmeans.cluster_centers_[1])\n",
    "        if d1<d2:\n",
    "            color.append(0)\n",
    "        else:\n",
    "            color.append(2)\n",
    "    return drawPlot(array,color)"
   ]
  },
  {
   "cell_type": "code",
   "execution_count": null,
   "metadata": {
    "collapsed": false
   },
   "outputs": [],
   "source": [
    "s=computeCluster(2,twoDir)\n",
    "show(s,notebook_handle=True)"
   ]
  },
  {
   "cell_type": "code",
   "execution_count": null,
   "metadata": {
    "collapsed": false
   },
   "outputs": [],
   "source": [
    "# Categorial colors\n",
    "\n",
    "\n",
    "\n",
    "show(p, notebook_handle=True)"
   ]
  },
  {
   "cell_type": "code",
   "execution_count": null,
   "metadata": {
    "collapsed": false
   },
   "outputs": [],
   "source": [
    "#Create dictionary\n",
    "movies = sc.textFile(\"/ix/ml-20m/movies.txt\").map(json.loads).map(lambda x: (x['movieId'],x['genres'])).collect()\n",
    "moviesDict = {}\n",
    "for movie in movies:\n",
    "    moviesDict[movie[0]] = movie[1]\n",
    "\n",
    "                                                                  "
   ]
  },
  {
   "cell_type": "code",
   "execution_count": null,
   "metadata": {
    "collapsed": false
   },
   "outputs": [],
   "source": [
    "#Compute Jaccard distance\n",
    "def distance(a,b):\n",
    "    temp = a+b\n",
    "    temp2 = set(a).intersection(b)\n",
    "    index = len(temp2)/len(temp)\n",
    "    return 1-index\n",
    "#Implement 2-medioids algorith\n",
    "medioids=[]\n",
    "exMedioids=[]\n",
    "for i in range(2):\n",
    "    medioids.append(random.choice(list(moviesDict.items())))\n",
    "while medioids != exMedioids:\n",
    "    clusters = [{},{}]\n",
    "    exMedioids = medioids\n",
    "\n",
    "    \n",
    "    for key,value in moviesDict.items():\n",
    "        index = -1\n",
    "        minValue = 500\n",
    "        for i,medioid in enumerate(medioids):\n",
    "            if distance(medioid[1],value) < minValue:\n",
    "                index=i\n",
    "                minValue = distance(medioid[1],value)\n",
    "        clusters[index][key]=value\n",
    "    for i in range(2):\n",
    "        index = -1\n",
    "        minValue = 500\n",
    "        temp = clusters[i].items()\n",
    "        \n",
    "        for key,value in temp:\n",
    "            sum = 0\n",
    "            for key2,value2 in temp:\n",
    "                if key != key2:\n",
    "                    sum += distance(value,value2)\n",
    "        if sum < minValue:\n",
    "            minValue = sum\n",
    "            medioids[i] = {key:value}\n",
    "                    \n",
    "                    \n",
    "                    \n",
    "    "
   ]
  },
  {
   "cell_type": "code",
   "execution_count": null,
   "metadata": {
    "collapsed": false
   },
   "outputs": [],
   "source": [
    "#Plot the frequency of genre\n",
    "for i in range(2):\n",
    "    genre =[]\n",
    "    for genres in clusters[i].values():\n",
    "        genre.extend(genres)\n",
    "    genre = dict(collections.Counter(genre))\n",
    "    x=range(len(list(genre.values())))\n",
    "    ax=plt.subplot()\n",
    "    ax.bar(x,list(genre.values()),tick_label=list(genre.keys()))\n",
    "    ax.set_xticklabels(list(genre.keys()),rotation=90)\n",
    "    plt.show()"
   ]
  },
  {
   "cell_type": "code",
   "execution_count": null,
   "metadata": {
    "collapsed": true
   },
   "outputs": [],
   "source": []
  }
 ],
 "metadata": {
  "anaconda-cloud": {},
  "kernelspec": {
   "display_name": "Python 3",
   "language": "python",
   "name": "python3"
  },
  "language_info": {
   "codemirror_mode": {
    "name": "ipython",
    "version": 3
   },
   "file_extension": ".py",
   "mimetype": "text/x-python",
   "name": "python",
   "nbconvert_exporter": "python",
   "pygments_lexer": "ipython3",
   "version": "3.5.2"
  }
 },
 "nbformat": 4,
 "nbformat_minor": 1
}
