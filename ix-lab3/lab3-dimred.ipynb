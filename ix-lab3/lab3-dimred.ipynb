{
 "cells": [
  {
   "cell_type": "markdown",
   "metadata": {},
   "source": [
    "# Lab 3 — dimensionality reduction"
   ]
  },
  {
   "cell_type": "code",
   "execution_count": null,
   "metadata": {
    "collapsed": false
   },
   "outputs": [],
   "source": [
    "import json\n",
    "import matplotlib.pyplot as plt\n",
    "import numpy as np\n",
    "\n",
    "from operator import itemgetter\n",
    "\n",
    "%matplotlib inline\n",
    "plt.style.use(\"ggplot\")"
   ]
  },
  {
   "cell_type": "code",
   "execution_count": null,
   "metadata": {
    "collapsed": false
   },
   "outputs": [],
   "source": [
    "!hdfs dfs -cat /ix/ml-20m/genome-tags.txt | tail -n 2"
   ]
  },
  {
   "cell_type": "code",
   "execution_count": null,
   "metadata": {
    "collapsed": false
   },
   "outputs": [],
   "source": [
    "tags = sc.textFile(\"/ix/ml-20m/genome-tags.txt\").map(json.loads)\n",
    "tag2name = dict(tags.map(itemgetter(\"tagId\", \"tag\")).collect())\n",
    "movies = sc.textFile(\"/ix/ml-20m/movies.txt\").map(json.loads)\n",
    "scores = sc.textFile(\"/ix/ml-20m/genome-scores.txt\").map(json.loads)\n",
    "\n",
    "movieId_withTags = scores.map(itemgetter('movieId')).distinct()\n",
    "\n",
    "print(tags.take(1))\n",
    "print(movies.take(1))\n",
    "print(scores.take(1))\n",
    "\n",
    "nb_tags = tags.count()\n",
    "nb_movies = movies.count()\n",
    "nb_movieId_withTags = movieId_withTags.count()\n",
    "nb_scores = scores.count()\n",
    "\n",
    "print('number tags: ', nb_tags)\n",
    "print('number movies: ', nb_movies)\n",
    "print('number movies with tags: ', nb_movieId_withTags)\n",
    "print('number scores :', nb_scores)"
   ]
  },
  {
   "cell_type": "code",
   "execution_count": null,
   "metadata": {
    "collapsed": false
   },
   "outputs": [],
   "source": [
    "relevance = scores.map(lambda x: x['relevance'])\n",
    "matrix = np.array(relevance.collect()).reshape((nb_tags,nb_movieId_withTags), order='F')"
   ]
  },
  {
   "cell_type": "code",
   "execution_count": null,
   "metadata": {
    "collapsed": false
   },
   "outputs": [],
   "source": [
    "print(matrix)"
   ]
  },
  {
   "cell_type": "code",
   "execution_count": null,
   "metadata": {
    "collapsed": false
   },
   "outputs": [],
   "source": [
    "tagsVar = np.var(matrix,axis=1)\n",
    "tagsVarSort = np.sort(tagsVar)\n",
    "\n",
    "plt.plot(tagsVar)\n",
    "plt.xlabel('Tags')\n",
    "plt.ylabel('Variance')\n",
    "plt.title(\"Variance of each tag\")"
   ]
  },
  {
   "cell_type": "code",
   "execution_count": null,
   "metadata": {
    "collapsed": false,
    "scrolled": true
   },
   "outputs": [],
   "source": [
    "matrixCentered = matrix - matrix.mean(axis=0)\n",
    "covMatrix = np.cov(matrixCentered, rowvar=False)\n",
    "eigenvalues,eigenvectors = np.linalg.eigh(covMatrix)\n",
    "\n",
    "plt.plot(eigenvalues)\n",
    "plt.title('Eigenvalues of the covariance matrix')"
   ]
  },
  {
   "cell_type": "code",
   "execution_count": null,
   "metadata": {
    "collapsed": false
   },
   "outputs": [],
   "source": [
    "nb_principal_direction = np.argmin(eigenvalues[::-1].cumsum() < 2/3*np.sum(eigenvalues))\n",
    "print(nb_principal_direction)"
   ]
  },
  {
   "cell_type": "code",
   "execution_count": null,
   "metadata": {
    "collapsed": false
   },
   "outputs": [],
   "source": [
    "from scipy import spatial\n",
    "\n",
    "idxMaxEval = np.argsort(eigenvalues)[::-1][:5]\n",
    "principalDirections = eigenvectors[:,idxMaxEval]\n",
    "\n",
    "tagsName = np.asarray(tags.map(lambda x: x['tag']).collect())\n",
    "\n",
    "def distance(direction):\n",
    "    dist = np.empty(nb_tags)\n",
    "    for i in range(nb_tags):\n",
    "        dist[i] = spatial.distance.cosine(principalDirections[:,direction], matrixCentered[i,:])\n",
    "    return dist\n",
    "\n",
    "def tenHighAndLow(direc, dist):\n",
    "    index = np.argsort(dist)\n",
    "    indexMin = index[:10]\n",
    "    indexMax = index[-10:][::-1]\n",
    "    print(direc, ' direction \\n------------------')\n",
    "    print('Tags with highest coordinates:\\n', tagsName[indexMax])\n",
    "    print('Tags with the lowest coordinates:\\n', tagsName[indexMin])\n",
    "    print('\\n')\n",
    "\n",
    "tenHighAndLow('First', distance(0))\n",
    "tenHighAndLow('Second', distance(1))\n",
    "tenHighAndLow('Third', distance(2))\n",
    "tenHighAndLow('Fourth', distance(3))\n",
    "tenHighAndLow('Fifth', distance(4))"
   ]
  },
  {
   "cell_type": "code",
   "execution_count": null,
   "metadata": {
    "collapsed": false,
    "scrolled": true
   },
   "outputs": [],
   "source": [
    "import pickle\n",
    "\n",
    "newCoordinates = np.dot(matrix, principalDirections)\n",
    "tagsDict = {}\n",
    "for i in range(nb_tags):\n",
    "    tagsDict[tagsName[i]] = tuple(newCoordinates[i,:])\n",
    "\n",
    "print(tagsDict)\n",
    "with open(\"tagsCoordinates.pickle\", \"wb\") as f:\n",
    "    pickle.dump(tagsDict, f)"
   ]
  },
  {
   "cell_type": "code",
   "execution_count": null,
   "metadata": {
    "collapsed": false
   },
   "outputs": [],
   "source": [
    "with open(\"selected-movies.pickle\", \"rb\") as f:\n",
    "    selectMovies = pickle.load(f, encoding=\"utf-8\")\n",
    "print(selectMovies[:3])"
   ]
  },
  {
   "cell_type": "code",
   "execution_count": null,
   "metadata": {
    "collapsed": false
   },
   "outputs": [],
   "source": [
    "movieId_array = np.sort(np.array(movieId_withTags.collect()))\n",
    "relevanceSelecMovies = np.zeros([nb_tags,len(selectMovies)])\n",
    "\n",
    "for i,movie in enumerate(selectMovies):\n",
    "    idx = np.argwhere(movieId_array==movie[0])\n",
    "    relevanceSelecMovies[:,i] = matrixCentered[:,idx[0][0]]\n",
    "\n",
    "print(relevanceSelecMovies.shape)"
   ]
  },
  {
   "cell_type": "code",
   "execution_count": null,
   "metadata": {
    "collapsed": false
   },
   "outputs": [],
   "source": [
    "twoMainDir = newCoordinates[:,:2]\n",
    "coorSelectMovies = np.zeros([len(selectMovies)])\n",
    "coorSelectMovies[0] = (1,2,3,4,5)\n",
    "for i,movie in enumerate(relevanceSelecMovies.T):\n",
    "    firstCoor = np.dot(movie,twoMainDir[:,0])\n",
    "    secondCoor = np.dot(movie,twoMainDir[:,1])\n",
    "    #coorSelectMovies[i] = (selectMovies[i][0], selectMovies[i][1], selectMovies[i][2], firstCoor, secondCoor)\n",
    "    \n",
    "print(coorSelectMovies)"
   ]
  },
  {
   "cell_type": "code",
   "execution_count": null,
   "metadata": {
    "collapsed": false
   },
   "outputs": [],
   "source": [
    "from bokeh.io import show, output_notebook\n",
    "from bokeh.plotting import figure, ColumnDataSource\n",
    "from bokeh.models import HoverTool, ResetTool, PanTool, WheelZoomTool, SaveTool\n",
    "output_notebook()"
   ]
  },
  {
   "cell_type": "code",
   "execution_count": null,
   "metadata": {
    "collapsed": true
   },
   "outputs": [],
   "source": []
  }
 ],
 "metadata": {
  "anaconda-cloud": {},
  "kernelspec": {
   "display_name": "Python 3",
   "language": "python",
   "name": "python3"
  },
  "language_info": {
   "codemirror_mode": {
    "name": "ipython",
    "version": 3
   },
   "file_extension": ".py",
   "mimetype": "text/x-python",
   "name": "python",
   "nbconvert_exporter": "python",
   "pygments_lexer": "ipython3",
   "version": "3.5.2"
  }
 },
 "nbformat": 4,
 "nbformat_minor": 1
}
