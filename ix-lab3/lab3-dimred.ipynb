{
 "cells": [
  {
   "cell_type": "markdown",
   "metadata": {},
   "source": [
    "# Lab 3 — dimensionality reduction"
   ]
  },
  {
   "cell_type": "code",
   "execution_count": null,
   "metadata": {
    "collapsed": false
   },
   "outputs": [],
   "source": [
    "import json\n",
    "import matplotlib.pyplot as plt\n",
    "import numpy as np\n",
    "\n",
    "from operator import itemgetter\n",
    "\n",
    "%matplotlib inline\n",
    "plt.style.use(\"ggplot\")"
   ]
  },
  {
   "cell_type": "code",
   "execution_count": null,
   "metadata": {
    "collapsed": false
   },
   "outputs": [],
   "source": [
    "!hdfs dfs -cat /ix/ml-20m/genome-tags.txt | tail -n 2"
   ]
  },
  {
   "cell_type": "code",
   "execution_count": null,
   "metadata": {
    "collapsed": false
   },
   "outputs": [],
   "source": [
    "tags = sc.textFile(\"/ix/ml-20m/genome-tags.txt\").map(json.loads)\n",
    "tag2name = dict(tags.map(itemgetter(\"tagId\", \"tag\")).collect())\n",
    "movies = sc.textFile(\"/ix/ml-20m/movies.txt\").map(json.loads)\n",
    "scores = sc.textFile(\"/ix/ml-20m/genome-scores.txt\").map(json.loads)\n",
    "\n",
    "#All the movies that have tags\n",
    "movieId_withTags = scores.map(itemgetter('movieId')).distinct()\n",
    "\n",
    "print(tags.take(1))\n",
    "print(movies.take(1))\n",
    "print(scores.take(1))\n",
    "\n",
    "nb_tags = tags.count()\n",
    "nb_movies = movies.count()\n",
    "nb_movieId_withTags = movieId_withTags.count()\n",
    "nb_scores = scores.count()\n",
    "\n",
    "print('number tags: ', nb_tags)\n",
    "print('number movies: ', nb_movies)\n",
    "print('number movies with tags: ', nb_movieId_withTags)\n",
    "print('number scores :', nb_scores)"
   ]
  },
  {
   "cell_type": "code",
   "execution_count": null,
   "metadata": {
    "collapsed": false
   },
   "outputs": [],
   "source": [
    "#In order to construct the matrix, we have reshape all the relevance with the row is the number of tags and the column the number of movies (with tags)\n",
    "relevance = scores.map(lambda x: x['relevance'])\n",
    "#order='F' is to precise to reshape by starting with the column\n",
    "matrix = np.array(relevance.collect()).reshape((nb_tags,nb_movieId_withTags), order='F')"
   ]
  },
  {
   "cell_type": "code",
   "execution_count": null,
   "metadata": {
    "collapsed": false
   },
   "outputs": [],
   "source": [
    "#find the variance of each tag\n",
    "tagsVar = np.var(matrix,axis=1)\n",
    "\n",
    "#And plot it\n",
    "plt.plot(tagsVar)\n",
    "plt.xlabel('Tags')\n",
    "plt.ylabel('Variance')\n",
    "plt.title(\"Variance of each tag\")"
   ]
  },
  {
   "cell_type": "code",
   "execution_count": null,
   "metadata": {
    "collapsed": false,
    "scrolled": true
   },
   "outputs": [],
   "source": [
    "#In order to do a PCA we need to center our matrix\n",
    "matrixCentered = matrix - matrix.mean(axis=1).reshape(1128,1)\n",
    "#Then we compute the covariance matrix\n",
    "covMatrix = np.cov(matrixCentered, rowvar=False)\n",
    "#This we can find the eigenvalues and eigenvectors of the covariance matrix\n",
    "eigenvalues,eigenvectors = np.linalg.eigh(covMatrix)\n",
    "\n",
    "#And we plot it\n",
    "plt.plot(eigenvalues)\n",
    "plt.title('Eigenvalues of the covariance matrix')"
   ]
  },
  {
   "cell_type": "code",
   "execution_count": null,
   "metadata": {
    "collapsed": false
   },
   "outputs": [],
   "source": [
    "#We can find the number of directions we need to capture 2/3 of the variability in the data\n",
    "nb_principal_direction = np.argmin(eigenvalues[::-1].cumsum() < 2/3*np.sum(eigenvalues))\n",
    "print(nb_principal_direction)"
   ]
  },
  {
   "cell_type": "markdown",
   "metadata": {},
   "source": [
    "Exercise 3.1)\n",
    "\n",
    "We can see that the variance of each tag are very varied and the plot seems noisy. Moreover we need very few directions in order to get a big majority of the variability of the data. Then the dimensionality reduction will be useful and will give some results."
   ]
  },
  {
   "cell_type": "code",
   "execution_count": null,
   "metadata": {
    "collapsed": false
   },
   "outputs": [],
   "source": [
    "from scipy import spatial\n",
    "\n",
    "#We get the index of the 5 max eigenvalues\n",
    "idxMaxEval = np.argsort(eigenvalues)[::-1][:5]\n",
    "#Then we get the 5 related eigenvectors, that will be our 5 principal directions\n",
    "principalDirections = eigenvectors[:,idxMaxEval]\n",
    "\n",
    "tagsName = np.asarray(tags.map(lambda x: x['tag']).collect())\n",
    "\n",
    "#This function compute the distance between a given direction and each tags\n",
    "def distance(direction):\n",
    "    dist = np.empty(nb_tags)\n",
    "    for i in range(nb_tags):\n",
    "        dist[i] = spatial.distance.cosine(principalDirections[:,direction], matrix[i,:])\n",
    "    return dist\n",
    "\n",
    "#This function find the 10 tags that have the highest and lowest coordinates for a given direction\n",
    "def tenHighAndLow(direc, dist):\n",
    "    index = np.argsort(dist)[::-1]\n",
    "    #The lowest coordinates are the farther from the direction\n",
    "    indexMin = index[:10]\n",
    "    #The highest coordinates are the closer from the direction\n",
    "    indexMax = index[-10:][::-1]\n",
    "    print(direc, ' direction \\n------------------')\n",
    "    print('Tags with highest coordinates:\\n', tagsName[indexMax])\n",
    "    print('Tags with the lowest coordinates:\\n', tagsName[indexMin])\n",
    "    print('\\n')\n",
    "\n",
    "tenHighAndLow('First', distance(0))\n",
    "tenHighAndLow('Second', distance(1))\n",
    "tenHighAndLow('Third', distance(2))\n",
    "tenHighAndLow('Fourth', distance(3))\n",
    "tenHighAndLow('Fifth', distance(4))"
   ]
  },
  {
   "cell_type": "markdown",
   "metadata": {},
   "source": [
    "Exercise 3.2)\n",
    "\n",
    "We can see that for each direction, the tags with the highest (and respectively the lowest) coordinates are very close one to an other and tend to be the definitions of movie genres.\n",
    "\n",
    "These tags can define drama movies for exemple: 'depressing' 'bleak' 'downbeat' 'golden palm' 'grim' 'character study' 'melancholy' 'tragedy' 'understated' 'poignant'"
   ]
  },
  {
   "cell_type": "code",
   "execution_count": null,
   "metadata": {
    "collapsed": false,
    "scrolled": true
   },
   "outputs": [],
   "source": [
    "import pickle\n",
    "#We find the 5 coordinates of every tags thanks to the 5 principal directions\n",
    "newCoordinates = np.dot(matrix, principalDirections)\n",
    "tagsDict = {}\n",
    "\n",
    "#We map every tag to its coordinates in the 5 principal directions\n",
    "for i in range(nb_tags):\n",
    "    tagsDict[tagsName[i]] = tuple(newCoordinates[i,:])\n",
    "\n",
    "with open(\"tagsCoordinates.pickle\", \"wb\") as f:\n",
    "    pickle.dump(tagsDict, f)"
   ]
  },
  {
   "cell_type": "code",
   "execution_count": null,
   "metadata": {
    "collapsed": false
   },
   "outputs": [],
   "source": [
    "#We get the selected movies from the disk\n",
    "with open(\"selected-movies.pickle\", \"rb\") as f:\n",
    "    selectMovies = pickle.load(f, encoding=\"utf-8\")"
   ]
  },
  {
   "cell_type": "code",
   "execution_count": null,
   "metadata": {
    "collapsed": false
   },
   "outputs": [],
   "source": [
    "#We want to get the 'relevance' attributes of each tags for each selected movies\n",
    "#We get the movieIds of all the movies that have tags\n",
    "movieId_array = np.sort(np.array(movieId_withTags.collect()))\n",
    "#We initialize the numpy array of the 'relevance' matrix for each selected movies\n",
    "relevanceSelecMovies = np.zeros([nb_tags,len(selectMovies)])\n",
    "\n",
    "#Then we get these 'relevance' scores of each tags for each selected movies\n",
    "for i,movie in enumerate(selectMovies):\n",
    "    idx = np.argwhere(movieId_array==movie[0])\n",
    "    relevanceSelecMovies[:,i] = matrix[:,idx[0][0]]"
   ]
  },
  {
   "cell_type": "code",
   "execution_count": null,
   "metadata": {
    "collapsed": false
   },
   "outputs": [],
   "source": [
    "#We want to project the selected movies into the 2 first princiap directions\n",
    "#Then we have to get the 2 first principal directions\n",
    "twoMainDir = newCoordinates[:,:2]\n",
    "coorSelectMovies = []\n",
    "#Then we associate each selected movies with their new coordinates in order to plot it\n",
    "for i,movie in enumerate(relevanceSelecMovies.T):\n",
    "    firstCoor = np.dot(movie,twoMainDir[:,0])\n",
    "    secondCoor = np.dot(movie,twoMainDir[:,1])\n",
    "    coorSelectMovies.append((selectMovies[i][0], selectMovies[i][1], int(selectMovies[i][2]*255), firstCoor, secondCoor))"
   ]
  },
  {
   "cell_type": "code",
   "execution_count": null,
   "metadata": {
    "collapsed": false
   },
   "outputs": [],
   "source": [
    "from bokeh.io import show, output_notebook\n",
    "from bokeh.plotting import figure, ColumnDataSource\n",
    "from bokeh.models import HoverTool, ResetTool, PanTool, WheelZoomTool, SaveTool\n",
    "output_notebook()"
   ]
  },
  {
   "cell_type": "code",
   "execution_count": null,
   "metadata": {
    "collapsed": false,
    "scrolled": false
   },
   "outputs": [],
   "source": [
    "from bokeh.palettes import Viridis256\n",
    "\n",
    "#We color the nodes by their Rotten Tomatoes score\n",
    "source = ColumnDataSource(\n",
    "    data={\n",
    "        \"id\": [x[0] for x in coorSelectMovies],\n",
    "        \"movie\": [x[1] for x in coorSelectMovies],\n",
    "        \"score\": [Viridis256[x[2]] for x in coorSelectMovies],\n",
    "        \"x\": [x[3] for x in coorSelectMovies],\n",
    "        \"y\": [x[4] for x in coorSelectMovies],\n",
    "    })\n",
    "\n",
    "hover = HoverTool(\n",
    "    tooltips=[\n",
    "        (\"Movie\", \"@movie\"),\n",
    "    ])\n",
    "tools = [hover, ResetTool(), PanTool(), WheelZoomTool(), SaveTool()]\n",
    "\n",
    "p = figure(plot_width=960, plot_height=360, tools=tools, title=\"Mouse over the dots\")\n",
    "p.circle(\"x\", \"y\", source=source, size=20, color=\"score\", alpha=0.5)\n",
    "show(p, notebook_handle=True)"
   ]
  },
  {
   "cell_type": "markdown",
   "metadata": {},
   "source": [
    "Exercise 3.3)\n",
    "\n",
    "We can see that movies are globally gathered according to their genres. For example at the bottom of the plot we have horror movies (videodrome, Ichi the killer, Stage Fright...). At the top we have the comedy drama (Billy Elliot, Pride, Life Beautiful...). At the left drama and in the middle fantasy/science-fiction movies.\n",
    "\n",
    "Moreover we can see that movies are also more or less gathered by their rotten tomatoes scores (close shades). Thus we can think that the PCA directions are correlated with the RT scores because movies with the same genres tend to have the same feedback from the audience."
   ]
  }
 ],
 "metadata": {
  "anaconda-cloud": {},
  "kernelspec": {
   "display_name": "Python 3",
   "language": "python",
   "name": "python3"
  },
  "language_info": {
   "codemirror_mode": {
    "name": "ipython",
    "version": 3
   },
   "file_extension": ".py",
   "mimetype": "text/x-python",
   "name": "python",
   "nbconvert_exporter": "python",
   "pygments_lexer": "ipython3",
   "version": "3.5.2"
  }
 },
 "nbformat": 4,
 "nbformat_minor": 1
}
