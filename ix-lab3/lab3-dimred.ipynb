{
 "cells": [
  {
   "cell_type": "markdown",
   "metadata": {},
   "source": [
    "# Lab 3 — dimensionality reduction"
   ]
  },
  {
   "cell_type": "code",
   "execution_count": null,
   "metadata": {
    "collapsed": false
   },
   "outputs": [],
   "source": [
    "import json\n",
    "import matplotlib.pyplot as plt\n",
    "import numpy as np\n",
    "\n",
    "from operator import itemgetter\n",
    "\n",
    "%matplotlib inline\n",
    "plt.style.use(\"ggplot\")"
   ]
  },
  {
   "cell_type": "code",
   "execution_count": null,
   "metadata": {
    "collapsed": false
   },
   "outputs": [],
   "source": [
    "!hdfs dfs -cat /ix/ml-20m/genome-tags.txt | tail -n 2"
   ]
  },
  {
   "cell_type": "code",
   "execution_count": null,
   "metadata": {
    "collapsed": false
   },
   "outputs": [],
   "source": [
    "tag = sc.textFile(\"/ix/ml-20m/genome-tags.txt\").map(json.loads)\n",
    "movie = sc.textFile(\"/ix/ml-20m/movies.txt\").map(json.loads)\n",
    "movieandTag = sc.textFile(\"/ix/ml-20m/genome-scores.txt\").map(json.loads)\n",
    "distinctMovie = movieandTag.map(itemgetter('movieId')).distinct()\n",
    "\n",
    "\n",
    "\n",
    "tag2name = dict(tag.map(itemgetter(\"tagId\", \"tag\")).collect())\n",
    "movie2name = dict(movie.map(itemgetter(\"movieId\", \"title\")).collect())\n",
    "row = movieandTag.map(itemgetter('relevance'))\n",
    "row = row.collect()\n",
    "\n",
    "    \n",
    "\n",
    "\n",
    "\n",
    "\n"
   ]
  },
  {
   "cell_type": "code",
   "execution_count": null,
   "metadata": {
    "collapsed": false
   },
   "outputs": [],
   "source": [
    "\n",
    "k = 0\n",
    "matrix = np.empty([tag.count(),distinctMovie.count()])\n",
    "for j in range(distinctMovie.ount()):\n",
    "    for i in range(tag.count()):\n",
    "        matrix[i][j] = row[k]\n",
    "        k+=1\n",
    "%time"
   ]
  },
  {
   "cell_type": "code",
   "execution_count": null,
   "metadata": {
    "collapsed": false
   },
   "outputs": [],
   "source": [
    "print(np.var(matrix,1))\n",
    "U,s,V = np.linalg.svd(matrix)\n",
    "print(s)\n",
    "\n"
   ]
  },
  {
   "cell_type": "code",
   "execution_count": null,
   "metadata": {
    "collapsed": false
   },
   "outputs": [],
   "source": [
    "tags = sc.textFile(\"/ix/ml-20m/genome-tags.txt\").map(json.loads)\n",
    "tag2name = dict(tags.map(itemgetter(\"tagId\", \"tag\")).collect())\n",
    "movies = sc.textFile(\"/ix/ml-20m/movies.txt\").map(json.loads)\n",
    "scores = sc.textFile(\"/ix/ml-20m/genome-scores.txt\").map(json.loads)\n",
    "\n",
    "movieId_withTags = scores.map(itemgetter('movieId')).distinct()\n",
    "\n",
    "print(tags.take(1))\n",
    "print(movies.take(1))\n",
    "print(scores.take(1))\n",
    "\n",
    "nb_tags = tags.count()\n",
    "nb_movies = movies.count()\n",
    "nb_movieId_withTags = movieId_withTags.count()\n",
    "nb_scores = scores.count()\n",
    "\n",
    "print('number tags: ', nb_tags)\n",
    "print('number movies: ', nb_movies)\n",
    "print('number movies with tags: ', nb_movieId_withTags)\n",
    "print('number scores :', nb_scores)"
   ]
  },
  {
   "cell_type": "code",
   "execution_count": null,
   "metadata": {
    "collapsed": false
   },
   "outputs": [],
   "source": [
    "relevance = scores.map(lambda dict: dict['relevance'])\n",
    "matrix = np.array(relevance.collect()).reshape((nb_tags,nb_movieId_withTags), order='F')"
   ]
  },
  {
   "cell_type": "code",
   "execution_count": null,
   "metadata": {
    "collapsed": false
   },
   "outputs": [],
   "source": [
    "print(matrix)"
   ]
  },
  {
   "cell_type": "code",
   "execution_count": null,
   "metadata": {
    "collapsed": false
   },
   "outputs": [],
   "source": [
    "tagsVar = np.var(matrix,axis=1)\n",
    "tagsVarSort = np.sort(tagsVar)\n",
    "\n",
    "plt.plot(tagsVar)\n",
    "plt.xlabel('Tag')\n",
    "plt.ylabel('Variance')\n",
    "plt.title(\"Variance of each tag\")"
   ]
  },
  {
   "cell_type": "code",
   "execution_count": null,
   "metadata": {
    "collapsed": false
   },
   "outputs": [],
   "source": [
    "covMatrix = np.cov(matrix)\n",
    "eigenvaluesCov = np.linalg.eig(covMatrix)\n",
    "\n",
    "plt.plot(eigenvaluesCov[0])\n",
    "plt.title('Eigenvalues of the covariance matrix')"
   ]
  }
 ],
 "metadata": {
  "anaconda-cloud": {},
  "kernelspec": {
   "display_name": "Python 3",
   "language": "python",
   "name": "python3"
  },
  "language_info": {
   "codemirror_mode": {
    "name": "ipython",
    "version": 3
   },
   "file_extension": ".py",
   "mimetype": "text/x-python",
   "name": "python",
   "nbconvert_exporter": "python",
   "pygments_lexer": "ipython3",
   "version": "3.5.2"
  }
 },
 "nbformat": 4,
 "nbformat_minor": 1
}
