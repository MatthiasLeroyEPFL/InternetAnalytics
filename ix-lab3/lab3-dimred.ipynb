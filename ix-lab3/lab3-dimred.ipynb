{
 "cells": [
  {
   "cell_type": "markdown",
   "metadata": {},
   "source": [
    "# Lab 3 — dimensionality reduction"
   ]
  },
  {
   "cell_type": "code",
   "execution_count": null,
   "metadata": {
    "collapsed": false
   },
   "outputs": [],
   "source": [
    "import json\n",
    "import matplotlib.pyplot as plt\n",
    "import numpy as np\n",
    "\n",
    "from operator import itemgetter\n",
    "\n",
    "%matplotlib inline\n",
    "plt.style.use(\"ggplot\")"
   ]
  },
  {
   "cell_type": "code",
   "execution_count": null,
   "metadata": {
    "collapsed": false
   },
   "outputs": [],
   "source": [
    "!hdfs dfs -cat /ix/ml-20m/genome-tags.txt | tail -n 2"
   ]
  },
  {
   "cell_type": "code",
   "execution_count": null,
   "metadata": {
    "collapsed": false
   },
   "outputs": [],
   "source": [
    "tags = sc.textFile(\"/ix/ml-20m/genome-tags.txt\").map(json.loads)\n",
    "tag2name = dict(tags.map(itemgetter(\"tagId\", \"tag\")).collect())\n",
    "movies = sc.textFile(\"/ix/ml-20m/movies.txt\").map(json.loads)\n",
    "scores = sc.textFile(\"/ix/ml-20m/genome-scores.txt\").map(json.loads)\n",
    "\n",
    "movieId_withTags = scores.map(itemgetter('movieId')).distinct()\n",
    "\n",
    "print(tags.take(1))\n",
    "print(movies.take(1))\n",
    "print(scores.take(1))\n",
    "\n",
    "nb_tags = tags.count()\n",
    "nb_movies = movies.count()\n",
    "nb_movieId_withTags = movieId_withTags.count()\n",
    "nb_scores = scores.count()\n",
    "\n",
    "print('number tags: ', nb_tags)\n",
    "print('number movies: ', nb_movies)\n",
    "print('number movies with tags: ', nb_movieId_withTags)\n",
    "print('number scores :', nb_scores)"
   ]
  },
  {
   "cell_type": "code",
   "execution_count": null,
   "metadata": {
    "collapsed": false
   },
   "outputs": [],
   "source": [
    "relevance = scores.map(lambda x: x['relevance'])\n",
    "matrix = np.array(relevance.collect()).reshape((nb_tags,nb_movieId_withTags), order='F')"
   ]
  },
  {
   "cell_type": "code",
   "execution_count": null,
   "metadata": {
    "collapsed": false
   },
   "outputs": [],
   "source": [
    "print(matrix)"
   ]
  },
  {
   "cell_type": "code",
   "execution_count": null,
   "metadata": {
    "collapsed": false
   },
   "outputs": [],
   "source": [
    "tagsVar = np.var(matrix,axis=1)\n",
    "tagsVarSort = np.sort(tagsVar)\n",
    "\n",
    "plt.plot(tagsVar)\n",
    "plt.xlabel('Tag')\n",
    "plt.ylabel('Variance')\n",
    "plt.title(\"Variance of each tag\")"
   ]
  },
  {
   "cell_type": "code",
   "execution_count": null,
   "metadata": {
    "collapsed": false,
    "scrolled": true
   },
   "outputs": [],
   "source": [
    "covMatrix = np.cov(matrix)\n",
    "eigenvalues,eigenvector = np.linalg.eigh(covMatrix)\n",
    "\n",
    "plt.plot(eigenvaluesCov[0])\n",
    "plt.title('Eigenvalues of the covariance matrix')\n",
    "print(np.sum(eigenvalues))\n",
    "print(np.argmin(eigenvalues[::-1].cumsum() < 2/3*eigenvalues.sum()) )\n",
    "y = covMatrix.dot(eigenvector)\n",
    "y = y[-36:,-36:]\n",
    "print(y)"
   ]
  }
 ],
 "metadata": {
  "anaconda-cloud": {},
  "kernelspec": {
   "display_name": "Python 3",
   "language": "python",
   "name": "python3"
  },
  "language_info": {
   "codemirror_mode": {
    "name": "ipython",
    "version": 3
   },
   "file_extension": ".py",
   "mimetype": "text/x-python",
   "name": "python",
   "nbconvert_exporter": "python",
   "pygments_lexer": "ipython3",
   "version": "3.5.2"
  }
 },
 "nbformat": 4,
 "nbformat_minor": 1
}
