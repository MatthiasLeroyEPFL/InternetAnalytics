{
 "cells": [
  {
   "cell_type": "markdown",
   "metadata": {},
   "source": [
    "# Text 2: Latent semantic indexing\n",
    "**Internet Analytics - Lab 4**\n",
    "\n",
    "---\n",
    "\n",
    "**Group:** P\n",
    "\n",
    "**Names:**\n",
    "\n",
    "* Matthias Leroy\n",
    "* Pierre Fouche\n",
    "\n",
    "---\n",
    "\n",
    "#### Instructions\n",
    "\n",
    "*This is a template for part 2 of the lab. Clearly write your answers, comments and interpretations in Markodown cells. Don't forget that you can add $\\LaTeX$ equations in these cells. Feel free to add or remove any cell.*\n",
    "\n",
    "*Please properly comment your code. Code readability will be considered for grading. To avoid long cells of codes in the notebook, you can also embed long python functions and classes in a separate module. Don’t forget to hand in your module if that is the case. In multiple exercises, you are required to come up with your own method to solve various problems. Be creative and clearly motivate and explain your methods. Creativity and clarity will be considered for grading.*"
   ]
  },
  {
   "cell_type": "code",
   "execution_count": 1,
   "metadata": {
    "collapsed": false
   },
   "outputs": [],
   "source": [
    "import pickle\n",
    "import numpy as np\n",
    "from scipy.sparse.linalg import svds"
   ]
  },
  {
   "cell_type": "markdown",
   "metadata": {},
   "source": [
    "## Exercise 4.4: Latent semantic indexing"
   ]
  },
  {
   "cell_type": "code",
   "execution_count": 2,
   "metadata": {
    "collapsed": false
   },
   "outputs": [
    {
     "name": "stdout",
     "output_type": "stream",
     "text": [
      "(104639, 854)\n",
      "[4.4181538238761719, 4.6419239235656162, 4.7537710437892269, 4.7827782397662917, 4.9981620096615922, 5.2173021453657586, 6.26553085166372, 6.448190922332012, 6.7546626229347169, 6.8834014191881305, 6.9742734820095853, 7.2165894288041423, 7.7336614220295745, 8.0869243549343786, 8.5190044656864714, 9.4664167579664049, 10.218845251935486, 19.871937944857287, 24.659548744702914, 32.007029864032283]\n",
      "[  9.45167559e-03   3.39262459e-04  -1.55039323e-02  -2.79188107e-03\n",
      "   1.84781529e-03  -4.92590093e-04   1.30908330e-03  -8.01908812e-04\n",
      "   3.25252191e-03   9.51849384e-05]\n"
     ]
    }
   ],
   "source": [
    "#We get from the disc the term-document matrix X\n",
    "#as well as the dictionaries that link terms and document(courses) with their indices\n",
    "with open(\"matrix.pickle\", \"rb\") as f:\n",
    "    X = pickle.load(f, encoding=\"utf-8\")\n",
    "with open(\"newCoursesDict.pickle\", \"rb\") as f:\n",
    "    newCoursesDict = pickle.load(f, encoding=\"utf-8\")\n",
    "with open(\"termsDict.pickle\", \"rb\") as f:\n",
    "    termsDict = pickle.load(f, encoding=\"utf-8\")\n",
    "\n",
    "# we apply SVD with K = 300 to our term-document matrix X.\n",
    "U,S,Vt = svds(X,300)\n",
    "print([e*e for e in S[-20:][::-1]])"
   ]
  },
  {
   "cell_type": "markdown",
   "metadata": {},
   "source": [
    "1. Describe the rows and columns of U and V , and the values of S.\n",
    "The columns of U describe a concept among all the terms of our matrix. Thus its rows define \n",
    "\n",
    "2. Print the top-20 eigenvalues of X."
   ]
  },
  {
   "cell_type": "markdown",
   "metadata": {},
   "source": [
    "## Exercise 4.5: Topic extraction"
   ]
  },
  {
   "cell_type": "code",
   "execution_count": null,
   "metadata": {
    "collapsed": false
   },
   "outputs": [],
   "source": [
    "topicTermDict = {}\n",
    "indiceT = 1\n",
    "for topicTerm in np.absolute(np.transpose(U))[-10:][::-1]:\n",
    "    idxTerms = topicTerm.argsort()[-10:][::-1]\n",
    "    tempList1 = []\n",
    "    for idxT in idxTerms:\n",
    "        term = termsDict[idxT]\n",
    "        tempList1.append(term)\n",
    "    topicTermDict[indiceT]=tempList1\n",
    "    indiceT+=1\n",
    "    \n",
    "indiceD = 1\n",
    "topicDocDict = {}\n",
    "for topicDoc in np.absolute(Vt)[-10:][::-1]:\n",
    "    idxDoc = topicDoc.argsort()[-10:][::-1]\n",
    "    tempList2 = []\n",
    "    for idxD in idxDoc:\n",
    "        doc = newCoursesDict[idxD]['name']\n",
    "        tempList2.append(doc)\n",
    "    topicDocDict[indiceD]=tempList2\n",
    "    indiceD+=1\n",
    "\n",
    "\n",
    "for i in range(1,11):\n",
    "    print('Terms for topic',i,'\\n')\n",
    "    for j in range(10):\n",
    "        print(topicTermDict[i][j])\n",
    "    print('\\nDocument for topic',i,'\\n')\n",
    "    for k in range(10):\n",
    "        print(topicDocDict[i][k])\n",
    "    print('------------------------------------------------------------\\n')\n"
   ]
  },
  {
   "cell_type": "markdown",
   "metadata": {},
   "source": [
    "## Exercise 4.6: Document similarity search in concept-space"
   ]
  },
  {
   "cell_type": "code",
   "execution_count": null,
   "metadata": {
    "collapsed": true
   },
   "outputs": [],
   "source": []
  },
  {
   "cell_type": "markdown",
   "metadata": {},
   "source": [
    "## Exercise 4.7: Document-document similarity"
   ]
  },
  {
   "cell_type": "code",
   "execution_count": null,
   "metadata": {
    "collapsed": false
   },
   "outputs": [],
   "source": []
  }
 ],
 "metadata": {
  "anaconda-cloud": {},
  "kernelspec": {
   "display_name": "Python 3",
   "language": "python",
   "name": "python3"
  },
  "language_info": {
   "codemirror_mode": {
    "name": "ipython",
    "version": 3
   },
   "file_extension": ".py",
   "mimetype": "text/x-python",
   "name": "python",
   "nbconvert_exporter": "python",
   "pygments_lexer": "ipython3",
   "version": "3.5.2"
  }
 },
 "nbformat": 4,
 "nbformat_minor": 2
}
