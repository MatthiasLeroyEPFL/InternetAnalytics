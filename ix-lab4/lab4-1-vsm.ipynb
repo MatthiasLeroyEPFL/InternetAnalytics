{
 "cells": [
  {
   "cell_type": "markdown",
   "metadata": {},
   "source": [
    "# Text 1: Vector space models\n",
    "**Internet Analytics - Lab 4**\n",
    "\n",
    "---\n",
    "\n",
    "**Group:** *Your group letter.*\n",
    "\n",
    "**Names:**\n",
    "\n",
    "* *Name 1*\n",
    "* *Name 2*\n",
    "* *Name 3*\n",
    "\n",
    "---\n",
    "\n",
    "#### Instructions\n",
    "\n",
    "*This is a template for part 1 of the lab. Clearly write your answers, comments and interpretations in Markodown cells. Don't forget that you can add $\\LaTeX$ equations in these cells. Feel free to add or remove any cell.*\n",
    "\n",
    "*Please properly comment your code. Code readability will be considered for grading. To avoid long cells of codes in the notebook, you can also embed long python functions and classes in a separate module. Don’t forget to hand in your module if that is the case. In multiple exercises, you are required to come up with your own method to solve various problems. Be creative and clearly motivate and explain your methods. Creativity and clarity will be considered for grading.*"
   ]
  },
  {
   "cell_type": "code",
   "execution_count": null,
   "metadata": {
    "collapsed": false
   },
   "outputs": [],
   "source": [
    "import pickle\n",
    "import numpy as np\n",
    "from scipy.sparse import csr_matrix\n",
    "from utils import load_json, load_pkl\n",
    "import string\n",
    "import math\n",
    "import collections\n",
    "from nltk.stem import PorterStemmer\n",
    "from nltk.stem.wordnet import WordNetLemmatizer\n",
    "\n",
    "courses = load_json('data/courses.txt')\n",
    "stopwords = load_pkl('data/stopwords.pkl')\n"
   ]
  },
  {
   "cell_type": "markdown",
   "metadata": {},
   "source": [
    "## Exercise 4.1: Pre-processing"
   ]
  },
  {
   "cell_type": "code",
   "execution_count": null,
   "metadata": {
    "collapsed": false
   },
   "outputs": [],
   "source": [
    "newCourses =[]\n",
    "ps = PorterStemmer()\n",
    "translator = str.maketrans('', '', string.punctuation)\n",
    "for course in courses:\n",
    "    temp = course['description'].lower()\n",
    "    for word in stopwords:\n",
    "        temp = temp.replace(' '+word+' ',' ')\n",
    "    temp = temp.translate(translator)\n",
    "    stemList = []\n",
    "    #for word in temp.split(' '):\n",
    "    #    stemList.append(ps.stem(word))\n",
    "    #temp = ' '.join(stemList)\n",
    "        \n",
    "    newCourses.append({'name':course['name'],'description':temp.split(' ')})"
   ]
  },
  {
   "cell_type": "code",
   "execution_count": null,
   "metadata": {
    "collapsed": false
   },
   "outputs": [],
   "source": [
    "def countDocWithTerm(term,docs):\n",
    "    result = 0\n",
    "    for doc in docs:\n",
    "        if term in doc['description']:\n",
    "            result += 1\n",
    "    return result\n",
    "            \n",
    "\n",
    "terms =[]\n",
    "for item in newCourses:\n",
    "    terms.extend(item['description'])\n",
    "terms = list(collections.Counter(terms).keys())\n",
    "terms.remove('')\n",
    "termsDict ={}\n",
    "for i,term in enumerate(terms):\n",
    "    termsDict[i]=term\n",
    "termsDict = dict(collections.OrderedDict(sorted(termsDict.items())))\n",
    "print(termsDict)\n",
    "newCoursesDict = {}\n",
    "for i,doc in enumerate(newCourses):\n",
    "    newCoursesDict[i]=doc\n",
    "newCoursesDict = dict(collections.OrderedDict(sorted(newCoursesDict.items())))\n",
    "values =[]\n",
    "rows=[]\n",
    "columns=[]\n",
    "print(len(terms))\n",
    "for i,term in termsDict.items():\n",
    "    if i%250 == 0:\n",
    "        print(i)\n",
    "    for index,doc in newCoursesDict.items():\n",
    "        if term in doc['description']:\n",
    "            tf = doc['description'].count(term)/len(doc['description'])\n",
    "            idf = math.log(len(newCourses)/countDocWithTerm(term,newCourses))\n",
    "            tf_idf=tf*idf\n",
    "            values.append(tf_idf)\n",
    "            rows.append(i)\n",
    "            columns.append(index)\n",
    "X = csr_matrix((values, (rows, columns)), shape=(len(terms), len(newCourses)))\n",
    "print(X)\n",
    "            \n",
    "            "
   ]
  },
  {
   "cell_type": "markdown",
   "metadata": {},
   "source": [
    "## Exercise 4.2: Term-document matrix"
   ]
  },
  {
   "cell_type": "code",
   "execution_count": null,
   "metadata": {
    "collapsed": false
   },
   "outputs": [],
   "source": [
    "#X = X.toarray()\n",
    "a = 0\n",
    "for key,value in newCoursesDict.items():\n",
    "    if value['name'] == 'Internet analytics':\n",
    "        a = key\n",
    "        break;\n",
    "temp =np.argsort(X[:,43])[::-1][:15]\n",
    "for i in temp:\n",
    "    print(termsDict[i])"
   ]
  },
  {
   "cell_type": "markdown",
   "metadata": {},
   "source": [
    "## Exercise 4.3: Document similarity search"
   ]
  },
  {
   "cell_type": "code",
   "execution_count": null,
   "metadata": {
    "collapsed": false
   },
   "outputs": [],
   "source": []
  }
 ],
 "metadata": {
  "anaconda-cloud": {},
  "kernelspec": {
   "display_name": "Python 3",
   "language": "python",
   "name": "python3"
  },
  "language_info": {
   "codemirror_mode": {
    "name": "ipython",
    "version": 3
   },
   "file_extension": ".py",
   "mimetype": "text/x-python",
   "name": "python",
   "nbconvert_exporter": "python",
   "pygments_lexer": "ipython3",
   "version": "3.5.2"
  }
 },
 "nbformat": 4,
 "nbformat_minor": 2
}
