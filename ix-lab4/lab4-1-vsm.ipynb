{
 "cells": [
  {
   "cell_type": "markdown",
   "metadata": {},
   "source": [
    "# Text 1: Vector space models\n",
    "**Internet Analytics - Lab 4**\n",
    "\n",
    "---\n",
    "\n",
    "**Group:** *Your group letter.*\n",
    "\n",
    "**Names:**\n",
    "\n",
    "* *Name 1*\n",
    "* *Name 2*\n",
    "* *Name 3*\n",
    "\n",
    "---\n",
    "\n",
    "#### Instructions\n",
    "\n",
    "*This is a template for part 1 of the lab. Clearly write your answers, comments and interpretations in Markodown cells. Don't forget that you can add $\\LaTeX$ equations in these cells. Feel free to add or remove any cell.*\n",
    "\n",
    "*Please properly comment your code. Code readability will be considered for grading. To avoid long cells of codes in the notebook, you can also embed long python functions and classes in a separate module. Don’t forget to hand in your module if that is the case. In multiple exercises, you are required to come up with your own method to solve various problems. Be creative and clearly motivate and explain your methods. Creativity and clarity will be considered for grading.*"
   ]
  },
  {
   "cell_type": "code",
   "execution_count": null,
   "metadata": {
    "collapsed": false
   },
   "outputs": [],
   "source": [
    "import pickle\n",
    "import numpy as np\n",
    "from scipy.sparse import csr_matrix\n",
    "from utils import load_json, load_pkl\n",
    "import string\n",
    "import math\n",
    "import collections\n",
    "from nltk.stem import PorterStemmer\n",
    "from nltk.stem.wordnet import WordNetLemmatizer\n",
    "\n",
    "courses = load_json('data/courses.txt')\n",
    "stopwords = load_pkl('data/stopwords.pkl')\n",
    "print(stopwords)\n",
    "print(courses[1])\n"
   ]
  },
  {
   "cell_type": "markdown",
   "metadata": {},
   "source": [
    "## Exercise 4.1: Pre-processing"
   ]
  },
  {
   "cell_type": "code",
   "execution_count": null,
   "metadata": {
    "collapsed": false
   },
   "outputs": [],
   "source": [
    "newCourses =[]\n",
    "ps = PorterStemmer()\n",
    "translator = str.maketrans('', '', string.punctuation)\n",
    "for course in courses:\n",
    "    temp = course['description']\n",
    "    for word in stopwords:\n",
    "        temp = temp.replace(' '+word+' ',' ')\n",
    "    temp = temp.translate(translator)\n",
    "    stemList = []\n",
    "    #for word in temp.split(' '):\n",
    "    #    stemList.append(ps.stem(word))\n",
    "    #temp = ' '.join(stemList)\n",
    "        \n",
    "    newCourses.append({'name':course['name'],'description':temp})\n",
    "print(newCourses[1]['description'].lower())"
   ]
  },
  {
   "cell_type": "code",
   "execution_count": null,
   "metadata": {
    "collapsed": false
   },
   "outputs": [],
   "source": [
    "def countDocWithTerm(term,docs):\n",
    "    result = 0\n",
    "    for doc in docs:\n",
    "        if term in doc['description'].split(' '):\n",
    "            result += 1\n",
    "    return result\n",
    "            \n",
    "\n",
    "terms =[]\n",
    "for item in newCourses:\n",
    "    for word in item['description'].split(' '):\n",
    "        terms.append(word)\n",
    "terms = list(collections.Counter(terms).keys())\n",
    "terms.remove('')\n",
    "values =[]\n",
    "rows=[]\n",
    "columns=[]\n",
    "print(len(terms))\n",
    "for i,term in enumerate(terms):\n",
    "    if i%250 == 0:\n",
    "        print(i)\n",
    "    for j,doc in enumerate(newCourses):\n",
    "        if term in doc['description'].split(' '):\n",
    "            tf = doc['description'].count(term)/len(doc['description'].split(' '))\n",
    "            idf = math.log(len(newCourses)/countDocWithTerm(term,newCourses))\n",
    "            tf_idf=tf*idf\n",
    "            values.append(tf_idf)\n",
    "            rows.append(i)\n",
    "            columns.append(j)\n",
    "X = csr_matrix((values, (rows, columns)), shape=(len(terms), len(newCourses)))\n",
    "print(X)\n",
    "            \n",
    "            "
   ]
  },
  {
   "cell_type": "markdown",
   "metadata": {},
   "source": [
    "## Exercise 4.2: Term-document matrix"
   ]
  },
  {
   "cell_type": "code",
   "execution_count": null,
   "metadata": {
    "collapsed": false
   },
   "outputs": [],
   "source": []
  },
  {
   "cell_type": "markdown",
   "metadata": {},
   "source": [
    "## Exercise 4.3: Document similarity search"
   ]
  },
  {
   "cell_type": "code",
   "execution_count": null,
   "metadata": {
    "collapsed": false
   },
   "outputs": [],
   "source": []
  }
 ],
 "metadata": {
  "anaconda-cloud": {},
  "kernelspec": {
   "display_name": "Python 3",
   "language": "python",
   "name": "python3"
  },
  "language_info": {
   "codemirror_mode": {
    "name": "ipython",
    "version": 3
   },
   "file_extension": ".py",
   "mimetype": "text/x-python",
   "name": "python",
   "nbconvert_exporter": "python",
   "pygments_lexer": "ipython3",
   "version": "3.5.2"
  }
 },
 "nbformat": 4,
 "nbformat_minor": 2
}
